{
  "cells": [
    {
      "cell_type": "markdown",
      "metadata": {
        "id": "Rzt6rNDAE_Rj"
      },
      "source": [
        "# INFO 4940\n",
        "\n",
        "## Lecture 6: Finetuning BERT for Classification"
      ]
    },
    {
      "cell_type": "markdown",
      "metadata": {
        "id": "URKn8K0HydhV"
      },
      "source": [
        "## Classfying Goodreads Reviews By Book Genre\n",
        "\n",
        "> Adapted from original work by Maria Antoniak, Melanie Walsh, and the [AI for Humanists](https://www.aiforhumanists.com/people//) Team\n",
        "\n",
        "This notebook will demonstrate how users can train and fine-tune a BERT model for classification with the popular HuggingFace `transformers` Python library.\n",
        "\n",
        "We will fine-tune a BERT model on Goodreads reviews from the [UCSD Book Graph](https://sites.google.com/eng.ucsd.edu/ucsdbookgraph/reviews?authuser=0) with the goal of predicting the genre of the book being reviewed. The genres include:\n",
        "- poetry\n",
        "- comics & graphic\n",
        "- fantasy & paranormal\n",
        "- history & biography\n",
        "- mystery, thriller, & crime\n",
        "- romance\n",
        "- young adult  \n",
        "\n",
        "**Basic steps involved in using BERT and HuggingFace:**\n",
        "1. Divide your data into training and test sets.\n",
        "2. Encode your data into a format BERT will understand.\n",
        "3. Combine your data and labels into datset objects.\n",
        "4. Load the pre-trained BERT model.\n",
        "5. Fine-tune the model using your training data.\n",
        "6. Predict new labels and evaluate performance on your test data.\n",
        "\n"
      ]
    },
    {
      "cell_type": "markdown",
      "metadata": {
        "id": "y73xWUkpU1AC"
      },
      "source": [
        "## Imports"
      ]
    },
    {
      "cell_type": "markdown",
      "metadata": {
        "id": "BJ9kmfrO3M_w"
      },
      "source": [
        "**NB.** This notebook is intended to be run on Google Colab. You can also run it locally with minimal modifications, such as replacing `gdown` with the location of local files. If you do run locally, you'll probably want to have a decent GPU."
      ]
    },
    {
      "cell_type": "code",
      "execution_count": null,
      "metadata": {
        "id": "F7p2MvfbPsEt"
      },
      "outputs": [],
      "source": [
        "# Basic Python modules\n",
        "from collections import defaultdict\n",
        "import random\n",
        "import pickle\n",
        "\n",
        "# For working with gzip files\n",
        "# https://docs.python.org/3/library/gzip.html\n",
        "import gzip\n",
        "\n",
        "# For working with JSON files\n",
        "import json\n",
        "\n",
        "# For data manipulation and analysis\n",
        "import pandas as pd\n",
        "import numpy as np\n",
        "\n",
        "# For machine learning tools and evaluation\n",
        "from sklearn.metrics import accuracy_score, f1_score, precision_recall_fscore_support, classification_report\n",
        "from sklearn.feature_extraction.text import TfidfVectorizer\n",
        "from sklearn.linear_model import LogisticRegression\n",
        "\n",
        "# For deep learning\n",
        "# https://pytorch.org/tutorials/beginner/basics/quickstart_tutorial.html\n",
        "import torch\n",
        "\n",
        "# For plotting and data visualization\n",
        "%matplotlib inline\n",
        "import matplotlib.pyplot as plt\n",
        "import seaborn as sns\n",
        "from matplotlib import ticker\n",
        "sns.set(style='ticks', font_scale=1.2)\n",
        "\n",
        "# imports from transformers\n",
        "from transformers import DistilBertTokenizerFast, DistilBertForSequenceClassification\n",
        "from transformers import Trainer, TrainingArguments"
      ]
    },
    {
      "cell_type": "markdown",
      "metadata": {
        "id": "Q70KYS_NVSDL"
      },
      "source": [
        "\n",
        "## Set parameters and file paths"
      ]
    },
    {
      "cell_type": "code",
      "execution_count": null,
      "metadata": {
        "id": "piWsW9ZeaP_D"
      },
      "outputs": [],
      "source": [
        "# This is the name of the BERT model that we want to use.\n",
        "# We're using DistilBERT to save space (it's a distilled version of the full BERT model),\n",
        "# and we're going to use the cased (vs uncased) version.\n",
        "model_name = 'distilbert-base-cased'\n",
        "device_name = 'cuda' # or 'cpu' or 'mps' or 'cuda', etc .\n",
        "\n",
        "# This is the maximum number of tokens in any document sent to BERT.\n",
        "max_length = 512\n",
        "\n",
        "# This is the name of the directory where we'll save our model. You can name it whatever you want.\n",
        "cached_model_directory_name = 'distilbert-reviews-genres'\n",
        "\n",
        "# Download the reviews data (can be slow; uses gdown, so only runs on colab) or load from disk?\n",
        "download_data = False"
      ]
    },
    {
      "cell_type": "markdown",
      "metadata": {
        "id": "tUjeaqiTehPY"
      },
      "source": [
        "## Load and sample Goodreads data"
      ]
    },
    {
      "cell_type": "markdown",
      "metadata": {
        "id": "SaYqqj7N8aRs"
      },
      "source": [
        "Create a Python dictionary with each genre and the link to the corresponding UCSD Goodreads review data for that genre on Google Drive.\n",
        "\n",
        "*If you manually click on any of the URLs, you will be able to download the data for that genre. For example, here's the link for poetry: https://drive.google.com/uc?id=1FVD3LxJXRc5GrKm97LehLgVGbRfF9TyO*"
      ]
    },
    {
      "cell_type": "code",
      "execution_count": null,
      "metadata": {
        "id": "J7pcelDZdrcC"
      },
      "outputs": [],
      "source": [
        "# This is where our target data is hosted on the web. You only need these paths for the book review dataset.\n",
        "\n",
        "# Source: https://mengtingwan.github.io/data/goodreads.html#datasets\n",
        "\n",
        "genre_url_dict = {'poetry':                 'https://datarepo.eng.ucsd.edu/mcauley_group/gdrive/goodreads/byGenre/goodreads_reviews_poetry.json.gz',\n",
        "                  'children':               'https://datarepo.eng.ucsd.edu/mcauley_group/gdrive/goodreads/byGenre/goodreads_reviews_children.json.gz',\n",
        "                  'comics_graphic':         'https://datarepo.eng.ucsd.edu/mcauley_group/gdrive/goodreads/byGenre/goodreads_reviews_comics_graphic.json.gz',\n",
        "                  'fantasy_paranormal':     'https://datarepo.eng.ucsd.edu/mcauley_group/gdrive/goodreads/byGenre/goodreads_reviews_fantasy_paranormal.json.gz',\n",
        "                  'history_biography':      'https://datarepo.eng.ucsd.edu/mcauley_group/gdrive/goodreads/byGenre/goodreads_reviews_history_biography.json.gz',\n",
        "                  'mystery_thriller_crime': 'https://datarepo.eng.ucsd.edu/mcauley_group/gdrive/goodreads/byGenre/goodreads_reviews_mystery_thriller_crime.json.gz',\n",
        "                  'romance':                'https://datarepo.eng.ucsd.edu/mcauley_group/gdrive/goodreads/byGenre/goodreads_reviews_romance.json.gz',\n",
        "                  'young_adult':            'https://datarepo.eng.ucsd.edu/mcauley_group/gdrive/goodreads/byGenre/goodreads_reviews_young_adult.json.gz'}"
      ]
    },
    {
      "cell_type": "markdown",
      "metadata": {
        "id": "UZC5SadPAZEc"
      },
      "source": [
        "If we set `download_data = True`, loop over the dictionary and use `gdown` to download the Goodreads review data for each genre from the open web. Else, load from local storage (already downloaded)."
      ]
    },
    {
      "cell_type": "code",
      "execution_count": null,
      "metadata": {
        "id": "u9-iSYQPefVg"
      },
      "outputs": [],
      "source": [
        "if download_data:\n",
        "    # For downloading large files from Google Drive\n",
        "    # https://github.com/wkentaro/gdown\n",
        "    import gdown\n",
        "\n",
        "    for _genre, _url in genre_url_dict.items():\n",
        "      gdown.download(_url, _genre + '.json.gz', quiet=False)"
      ]
    },
    {
      "cell_type": "markdown",
      "metadata": {
        "id": "NLIzT1PYBv6a"
      },
      "source": [
        "If you click the file browser icon in the left-hand side bar, you should see that these files have now been download.![Screen Shot 2021-03-18 at 11.50.17 AM.png](data:image/png;base64,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)"
      ]
    },
    {
      "cell_type": "markdown",
      "metadata": {
        "id": "j4E4d6C-AruL"
      },
      "source": [
        "Next we create a function `load_reviews()`, which will use `gzip` to unzip the downloaded Goodreads review JSON files and `json` to load the JSON files once they're unzipped."
      ]
    },
    {
      "cell_type": "code",
      "execution_count": null,
      "metadata": {
        "id": "TfzAKfgKeuDv"
      },
      "outputs": [],
      "source": [
        "if download_data:\n",
        "    def load_reviews(file_name,\n",
        "                     head=None):\n",
        "\n",
        "        reviews = []\n",
        "        count = 0\n",
        "\n",
        "        with gzip.open(file_name) as file:\n",
        "            for line in file:\n",
        "\n",
        "                d = json.loads(line)\n",
        "                count += 1\n",
        "\n",
        "                _book_id = d['book_id']\n",
        "\n",
        "                reviews.append(d['review_text'])\n",
        "\n",
        "                # Break if we reach the Nth line\n",
        "                if (head is not None) and (count > head):\n",
        "                    break\n",
        "\n",
        "        return reviews"
      ]
    },
    {
      "cell_type": "markdown",
      "metadata": {
        "id": "gLVHBRGpBWvX"
      },
      "source": [
        "Now we apply the `load_reviews()` function. For each genre, we load and unzip the corresponding `.json.gz` file, e.g., `poetry.json.gz`, then we randomly sample 2000 Goodreads reviews and make a dictionary `genre_reviews_dict` of all these reviews."
      ]
    },
    {
      "cell_type": "code",
      "execution_count": null,
      "metadata": {
        "id": "J8H_H-OmfgZ4"
      },
      "outputs": [],
      "source": [
        "if download_data:\n",
        "    genres = ['poetry', 'children', 'comics_graphic', 'fantasy_paranormal', 'history_biography', 'mystery_thriller_crime', 'romance', 'young_adult']\n",
        "    genre_reviews_dict = {}\n",
        "\n",
        "    for _genre in genres:\n",
        "      print('Loading ' + _genre + '.json.gz')\n",
        "\n",
        "      _reviews = load_reviews(_genre + '.json.gz')\n",
        "      genre_reviews_dict[_genre] = random.sample(_reviews, 2000)\n",
        "\n",
        "    # write our sampled data\n",
        "    pickle.dump(genre_reviews_dict, open('genre_reviews_dict.pickle', 'wb'))\n",
        "else:\n",
        "    genre_reviews_dict = pickle.load(open('genre_reviews_dict.pickle', 'rb'))"
      ]
    },
    {
      "cell_type": "markdown",
      "metadata": {
        "id": "5hUYAM95IVyB"
      },
      "source": [
        "Let's preview a couple of the key-value pairs in `genre_reviews_dict`"
      ]
    },
    {
      "cell_type": "code",
      "execution_count": null,
      "metadata": {
        "colab": {
          "base_uri": "https://localhost:8080/"
        },
        "id": "Rf5RDXqGFQJy",
        "outputId": "43f8b8fd-38a9-4528-c9b1-1804e11dfd89"
      },
      "outputs": [
        {
          "output_type": "stream",
          "name": "stdout",
          "text": [
            "poetry\n",
            "3.5 neat artwork\n",
            "children\n",
            "Who doesn't love Pooh? \n",
            " I always loved watching Pooh on Saturdays it was a great treat for me yes I know that was the Disney version) I also would read it with my mom and we would make different voices for all the characters. I know what I grew up with was a little different from the books (art wise) but all and all I still have fond memories of Pooh and gang.\n",
            "comics_graphic\n",
            "Another must read graphic novel! One would think that being the last man on the planet, surrounded by women would be a good thing...turns out it's not. \n",
            " Meet Yorick, an escape artist, college student, and aspiring showman. Life is good for him. His sister is a paramedic, his mom is a senator, and his beautiful girlfriend is about to become his fiancee. What could go wrong? \n",
            " In one moment every living thing with a Y chromosome dies. Every single male human or animal erupts in spasms and spews blood and then dies...except for Yorick and his per monkey Ampersand. Unsure of what has happened and not sure why he has survived while ever other man has perished, Yorick is uncertain what to do next in this ruined world. \n",
            " Laying low for awhile and cautious to venture out into the world that is gone, some drastic things take place. Various factions of women have arisen to take control. In America there is a gang of women thinking themsveles Amazon warriors who are vying for power. In Israel a commander has taken over and determine to squash the enemies of her people to keep them safe. At the same time we meet agent 355 who is part of a mysterious government group that is tasked with protecting Yorick once his mother finds out he is alive. \n",
            " Yorick quickly becomes a pawn in a mutli-faction scheme with every group wanting something from Yorick. Some want him dead, some want him quarantined, some want him poked and prodded; none of which Yorick wants. \n",
            " The reason for the plague that ended man is never full explained but is explained according to the author: \n",
            " \"I feel that there is a definitive explanation, but I like that people don't necessarily know what it is. In interviews we always said that we would tell people exactly what caused the plague. The thing was, we never said when we were going to tell. We weren't going to tell you when we were telling you, I should say. We might have told you in issue #3. There might have been something in the background that only a couple people caught. It might have been Dr. Mann's father's very detailed, scientific explanation. It might have been Alter's off-the-wall conspiracy theory. The real answer is somewhere in those 60 issues, but I prefer to let the reader decide which one they like rather than pushing it on them.\" \n",
            " The theory that is described in the most detail is Dr. Matsumori's:[1] \n",
            " As described in the \"Motherland\" story arc, the Y-chromosome had been \"rationally self-destructing for hundreds of millions of years\" and thus the birth of Dr. Matsumori's first successful human clone \"triggered a time-bomb that had been ticking for a millennia,\" in other words the moment the Y-chromosome became obsolete \"nature righted its course.\"[2] Moreover, Doctor Matsumori had also discovered a \"chemical compound that had an adverse effect on the genome of cloned mammals\" which he injected into a capuchin monkey (Ampersand) in an attempt to kill his daughter's unborn clone fetus. Yet, as fate would have it, Ampersand was misdelivered to Yorick and when the plague struck, the compound ended up having the opposite effect on non-cloned mammals, shielding all three of them from \"god's wrath.\" \n",
            " Other explanations put-forth in the book include: \n",
            " *The Israeli agent Alter claims that the Culper Ring created a chemical agent designed to prevent women from conceiving male children. This agent was introduced into China to cripple their economy, however, something went wrong, and the chemical agent instead killed males of all ages. \n",
            " *According to an agent of the Setauket Ring, the plague struck the moment Agent 355 removed the sacred Amulet of Helene from the nation of Jordan. The amulet carried a warning that if it was ever taken from its homeland, it would create a tragedy greater than the Trojan War. It is also suggested that the wedding ring Yorick bought for Beth may have protected him and Ampersand from the effect of this curse. \n",
            " *The Earth cleansing herself of the Y chromosome, as believed by the Amazons. \n",
            " *The Rapture taking all men and leaving women as a punishment for original sin, as believed by an air traffic controller. \n",
            " The remaining (female) members of Sons of Arizona were convinced that the government was responsible for the plague, and the top government leaders were lying in wait to take over the country. \n",
            " *Changes in the Dreamtime affecting normal reality, as believed by some Australian aboriginals and Beth. \n",
            " *One member of the \"Fish & Bicycle\" traveling theater troupe advanced the theory the plague was a direct response to the exclusion of women from true parity in the performing arts, thereby upsetting the natural order. In support of this theory, it was speculated the total exclusion of women from the stage in Shakespeare's day had resulted in pandemic outbreaks of the Bubonic Plague. \n",
            " *At one point, the characters discuss the possibility that the release of the film Divine Secrets of the Ya-Ya Sisterhood shortly before the plague may have caused a massive \"death-by-chick-flick.\"\n",
            "fantasy_paranormal\n",
            "Aaarrrggghhhh!!! Why didn't I wait until the third book was out to read this? What a cliffhanger!!\n",
            "history_biography\n",
            "tntbk msh`r mkhtlf@ Hyn tqr' hdh lktb qdh tkrh slm~ w qd tGfr lh, wd`an znjbr ktb 'khr `n qS@ slm~ bnt s`yd bn slTn bn@ Hkm znjbr lty hrbt m` tjr 'lmny. b`d qS@ Hb, `sht m`h 3 snwt jmyl@ tlth snwt mn l`dhb w lGrb@ lmzdwj@, s`t llSlH m` `y'lth lkn bl Ty'l, fhy fy wj@ nZrhm khnt ldyn w lwTn..qr'@ hdh lktb tdf`ny lqr'@ (ktb mdhkrt 'myr@ `rby@) ldhy yHky lsyr@ ldhty@ lslm~.\n",
            "mystery_thriller_crime\n",
            "I wish the movie had been longer. There are so many sensational scenes in the book that were not in the movie. I don't care if the movie had to be four hours long to include them, I'd be on the edge of my seat watching every second of it. \n",
            " Don't know which I enjoyed more, the movie or the book. \n",
            " Not a one time movie. \n",
            " Not a one-read book. \n",
            " Great stuff.\n",
            "romance\n",
            "I was recently given a copy of No Greater Glory to evaluate for a contest. It was initially a little disappointing to find that I had been given a Civil War historical to read. I am more of a Regency/Victorian England type of girl. BUT...was I ever wrong. This book was beautifully written. It gave an accurate portrayal of the time. The story was compelling and the characters were believable. Most importantly, I have continued to \"live\" the story in my mind hours after finishing it. That's impressive. \n",
            " It is not hard to have dramatic conflict in a Civil War story. Drama is inherent in the regional conflict between fellow Americans. Thirty-five year old widow Emaline McDaniels is distraught when Yankee soldiers commandeer her land, house, and livestock. She has been struggling to hold her house and property together with only a few loyal servants. Emaline is surprised and dismayed to find that she is attracted to Colonel Reece Cutteridge, the leader of the Yankee battalion. Reece has a tragic past, having lost his wife in an Indian raid. He is attracted to Emaline, too, but feels he is too damaged to offer her anything. Besides, they are in the middle of a war and on opposite sides. \n",
            " The events that Emaline and Reece encounter are realistic for their situations. Yes, there is a little bit of coincidence involved, but it wouldn't be a great story without it. Reece finds little ways to look out for Emaline, even when he is off fighting battles. Emaline holds everything together at her home while finding ways to help injured Yankee soldiers. They both come to believe the war is nothing but senseless death and destruction. I liked that they didn't fall into bed immediately - Reece was a truly honorable man - but the steamy scenes were quite satisfying. \n",
            " This was an extremely well written book. The use of descriptive language painted pictures that were easy to visualize. The best part for me was that the characters were so believable. Author Nord made me understand who they were. Their behavior was completely consistent with backgrounds and personalities. Their love for each other was deep and genuine. I cared about them. One important measure of the quality of a romance is the degree to which we are emotionally invested. I was totally invested in this story from beginning to end. It doesn't get much better.\n",
            "young_adult\n",
            "Even though I like it enough to give it a 4 and I can't wait to read the sequel, this book just don't have enough Ty and Poppy moments to have me gushing over them. That's one major reason why I even want to read Over It. I really hope book 2 will give me that satisfaction.\n"
          ]
        }
      ],
      "source": [
        " for _genre, _reviews in genre_reviews_dict.items():\n",
        "    print(_genre)\n",
        "    print(random.sample(_reviews, 1)[0])"
      ]
    },
    {
      "cell_type": "markdown",
      "metadata": {
        "id": "v10htL_G-OFs"
      },
      "source": [
        "## Split the data into training and test sets"
      ]
    },
    {
      "cell_type": "markdown",
      "metadata": {
        "id": "y0qBs3MHGOSI"
      },
      "source": [
        "We'll use a standard 80/20 train/test split. Note that we sample 1,000 of the 2,000 reviews per genre that we selected for each sample. Trying to keep things small enough to run in reasonable time on limited hardware.\n",
        "\n",
        "**Note:** Normally, to tune the hyperparameters, you should also create a \"validation\" set for tuning, and only use the \"test\" set once, at the end of all tuning. For simplicity, in this tutorial, we will only using a training and test set."
      ]
    },
    {
      "cell_type": "code",
      "execution_count": null,
      "metadata": {
        "id": "h94eg2wlfi6y"
      },
      "outputs": [],
      "source": [
        "train_texts = []\n",
        "train_labels = []\n",
        "\n",
        "test_texts = []\n",
        "test_labels = []\n",
        "\n",
        "for _genre, _reviews in genre_reviews_dict.items():\n",
        "\n",
        "  _reviews = random.sample(_reviews, 1000) # Use a very small set as an example.\n",
        "\n",
        "  for _review in _reviews[:800]:\n",
        "    train_texts.append(_review)\n",
        "    train_labels.append(_genre)\n",
        "  for _review in _reviews[800:]:\n",
        "    test_texts.append(_review)\n",
        "    test_labels.append(_genre)"
      ]
    },
    {
      "cell_type": "markdown",
      "metadata": {
        "id": "jJDqqi5tLAqG"
      },
      "source": [
        "Show how many Goodreads reviews and labels we have in each category: 6400 training reviews, 6400 training labels (genres), 1600 test reviews, 1600 test labels (genre)"
      ]
    },
    {
      "cell_type": "code",
      "execution_count": null,
      "metadata": {
        "colab": {
          "base_uri": "https://localhost:8080/"
        },
        "id": "4tShbGfG-VMe",
        "outputId": "c72a5bd3-3341-41ac-c84f-3c98d73e6d71"
      },
      "outputs": [
        {
          "output_type": "execute_result",
          "data": {
            "text/plain": [
              "(6400, 6400, 1600, 1600)"
            ]
          },
          "metadata": {},
          "execution_count": 9
        }
      ],
      "source": [
        "len(train_texts), len(train_labels), len(test_texts), len(test_labels)"
      ]
    },
    {
      "cell_type": "markdown",
      "metadata": {
        "id": "O-34oep8LNKw"
      },
      "source": [
        "Here's an example of a training label and review:"
      ]
    },
    {
      "cell_type": "code",
      "execution_count": null,
      "metadata": {
        "colab": {
          "base_uri": "https://localhost:8080/"
        },
        "id": "dcxvqUsdf5Sm",
        "outputId": "f684fb12-6911-43d5-cca6-af3b2b3e9f70"
      },
      "outputs": [
        {
          "output_type": "execute_result",
          "data": {
            "text/plain": [
              "('poetry',\n",
              " 'Desde la primera ocasion que lei a Huerta, encontre mucha fuerza en sus lineas; tal vez eso sea lo que termina por enganchar a sus seguidores. Libro ideal para quien quiera acercarse por vez primera a la obra de Efrain Huerta, incluso, para quienes desean vagar por segunda vez entre sus mejores poemas. El libro guarda bien la esencia del escritor.')"
            ]
          },
          "metadata": {},
          "execution_count": 10
        }
      ],
      "source": [
        "train_labels[1], train_texts[1]"
      ]
    },
    {
      "cell_type": "markdown",
      "metadata": {
        "id": "0FoaXKbKjXRX"
      },
      "source": [
        "## Run a baseline model (logistic regression)\n",
        "\n",
        "It's important to know performance we can expect on a given task using a system that we already understand well. Here, we train and evaluate a simple TF-IDF baseline model using logistic regression.\n",
        "\n",
        "We find better-than-random performance, even for a very small dataset. We'll see whether BERT can beat this good baseline."
      ]
    },
    {
      "cell_type": "code",
      "execution_count": null,
      "metadata": {
        "id": "RBTyTh8Ui2D3"
      },
      "outputs": [],
      "source": [
        "vectorizer = TfidfVectorizer()\n",
        "X_train = vectorizer.fit_transform(train_texts)\n",
        "X_test = vectorizer.transform(test_texts)"
      ]
    },
    {
      "cell_type": "code",
      "execution_count": null,
      "metadata": {
        "id": "R92S7JZfjiaC"
      },
      "outputs": [],
      "source": [
        "clf = LogisticRegression(max_iter=1000).fit(X_train, train_labels)\n",
        "predictions = clf.predict(X_test)"
      ]
    },
    {
      "cell_type": "markdown",
      "metadata": {
        "id": "s6YmW7WZMhh3"
      },
      "source": [
        "We can use scikit-learn's `classification_report` function to evaluate how well the logistic regression model's predictions match up with the true labels for the Goodreads reviews.\n",
        "\n",
        "Importantly, we can see that our average scores are above random performance (we have 8 classes, so random performance would be ~0.2)."
      ]
    },
    {
      "cell_type": "code",
      "execution_count": null,
      "metadata": {
        "colab": {
          "base_uri": "https://localhost:8080/"
        },
        "id": "UeJd8ogKjpg0",
        "outputId": "f51032bb-400a-42dc-8ff7-511bfbe6a49c"
      },
      "outputs": [
        {
          "output_type": "stream",
          "name": "stdout",
          "text": [
            "                        precision    recall  f1-score   support\n",
            "\n",
            "              children       0.56      0.56      0.56       200\n",
            "        comics_graphic       0.54      0.59      0.57       200\n",
            "    fantasy_paranormal       0.33      0.28      0.30       200\n",
            "     history_biography       0.51      0.48      0.50       200\n",
            "mystery_thriller_crime       0.54      0.46      0.49       200\n",
            "                poetry       0.60      0.73      0.66       200\n",
            "               romance       0.42      0.45      0.43       200\n",
            "           young_adult       0.35      0.35      0.35       200\n",
            "\n",
            "              accuracy                           0.49      1600\n",
            "             macro avg       0.48      0.49      0.48      1600\n",
            "          weighted avg       0.48      0.49      0.48      1600\n",
            "\n"
          ]
        }
      ],
      "source": [
        "print(classification_report(test_labels, predictions))"
      ]
    },
    {
      "cell_type": "markdown",
      "metadata": {
        "id": "Aow3FPpppZVE"
      },
      "source": [
        "## Encode data for BERT\n",
        "\n",
        "We're going to transform our texts and labels into a format that BERT (via Huggingface and PyTorch) will understand. This is called *encoding* the data.\n",
        "\n",
        "Here are the steps we need to follow:\n",
        "\n",
        "1. The labels&mdash;in this case, Goodreads genres&mdash;need to be turned into integers rather than strings.\n",
        "\n",
        "2. The texts&mdash;in this case, Goodreads reviews&mdash;need to be truncated if they're more than 512 tokens or padded if they're fewer than 512 tokens. The tokens, or words in the texts, also need to be separated into \"word pieces\" and matched to their embedding vectors.\n",
        "\n",
        "3. We need to add special tokens to help BERT:\n",
        "\n",
        "| BERT special token | Explanation |\n",
        "| --------------| ---------|\n",
        "| [CLS] | Start token of every document. |\n",
        "| [SEP] | Separator between each sentence |\n",
        "| [PAD] | Padding at the end of the document as many times as necessary, up to 512 tokens |\n",
        "|  &#35;&#35; | Start of a \"word piece\" |\n",
        "\n",
        "\n"
      ]
    },
    {
      "cell_type": "markdown",
      "metadata": {
        "id": "GRs0dEIoUZtV"
      },
      "source": [
        "Here we will load `DistilBertTokenizerFast` from the HuggingFace library, which will do all the work of encoding the texts for us. The `tokenizer()` will break word tokens into word pieces, truncate to 512 tokens, and add padding and special BERT tokens."
      ]
    },
    {
      "cell_type": "code",
      "execution_count": null,
      "metadata": {
        "colab": {
          "base_uri": "https://localhost:8080/",
          "height": 308,
          "referenced_widgets": [
            "628f245858de4583bb5195b7b9855a50",
            "a54deaeb54ad48d2a8cd64c8e2a2619d",
            "c68e7181794b4e01b7a3cce9be332c8e",
            "5078aa87218c40e68cca50ad791693ff",
            "595453f8aad64fabb81aa54a588779a3",
            "4b29aaad07164e8082de01c206a213c8",
            "7c8abcce393a4f34871a5c536a002770",
            "e06dc8621c0b403ab429f684c441f31e",
            "c27d181889fd4828ab2a1610932e048e",
            "12cdc80f65f7436599241fd3d22ec1db",
            "b28a1b61a94f444197408c32850c752d",
            "f233230ea9f14c6ba4a72f06d367f6f1",
            "0437b2ced62149939fa81ae06136cab8",
            "a97b8284abde402cb81f4208f9a4b82a",
            "7ca12adb65834087abd0da1fb6dd7815",
            "3dedefaf85df4b0d85e375b7ec9f3bfd",
            "fb3520fa48204dd7ba8b242fbe6fd87e",
            "5684dc32622749a4a7428d16333d997d",
            "bcab85d7b1724fa48ba3e02479ef9cc3",
            "0fc9d7fcffc94e31837741aa01c77169",
            "4fc1c1a1259c479faca028afb15998dd",
            "7b0a0ad1ccb644ae9efad45fb9cc10e2",
            "e3dfaadc8c624f248f9514a997905a60",
            "bdf3a247bac945598108bcbaf4d18ca2",
            "d807032659024798b2ebd0e45917c081",
            "af2fd770368b4faa8631eec53318eca1",
            "7b9502b474c249bdaedcf44e07b0f3b1",
            "10787c6e797648e78566a0dce508976d",
            "848b253b1f0c409fa51abf8295cd577b",
            "eb8a3254b9ca4fcbab48e74654849745",
            "f3763d370bf147318e8e0bf5b3b6835f",
            "cd9db94c25154a7b8688633716aeaae5",
            "72b9b4cf1db74927acaa7940078b9205",
            "f44b8149ec8e42ee9cf84b7637dabf2a",
            "ce383e0898414e0b9e1ee8ae9a4a4dda",
            "1d99f7b7c3a84b6c9758759afc9e2764",
            "5a4485da864c41cebbf00a47f10135f7",
            "5bda537a7f8f48959b989ea0d26373b5",
            "83a4894fe28342f3a7f6cfe929fc4df1",
            "126f8f1ff9b64ae497abc4385e7e5804",
            "ab453ba1c2874a709e7a442e7a8432e5",
            "e882ca0ada9c4d5ea296abf4fb747bc7",
            "ca99fc917d4c41cd968f7733814f802e",
            "b7c4db3a15cc440f9eef400e6dda320e"
          ]
        },
        "id": "9BEvRqpGVMUD",
        "outputId": "bb3a6fde-9b6a-4d96-edd2-53c2dfe5ef47"
      },
      "outputs": [
        {
          "output_type": "stream",
          "name": "stderr",
          "text": [
            "/usr/local/lib/python3.10/dist-packages/huggingface_hub/utils/_token.py:89: UserWarning: \n",
            "The secret `HF_TOKEN` does not exist in your Colab secrets.\n",
            "To authenticate with the Hugging Face Hub, create a token in your settings tab (https://huggingface.co/settings/tokens), set it as secret in your Google Colab and restart your session.\n",
            "You will be able to reuse this secret in all of your notebooks.\n",
            "Please note that authentication is recommended but still optional to access public models or datasets.\n",
            "  warnings.warn(\n"
          ]
        },
        {
          "output_type": "display_data",
          "data": {
            "text/plain": [
              "tokenizer_config.json:   0%|          | 0.00/49.0 [00:00<?, ?B/s]"
            ],
            "application/vnd.jupyter.widget-view+json": {
              "version_major": 2,
              "version_minor": 0,
              "model_id": "628f245858de4583bb5195b7b9855a50"
            }
          },
          "metadata": {}
        },
        {
          "output_type": "display_data",
          "data": {
            "text/plain": [
              "vocab.txt:   0%|          | 0.00/213k [00:00<?, ?B/s]"
            ],
            "application/vnd.jupyter.widget-view+json": {
              "version_major": 2,
              "version_minor": 0,
              "model_id": "f233230ea9f14c6ba4a72f06d367f6f1"
            }
          },
          "metadata": {}
        },
        {
          "output_type": "display_data",
          "data": {
            "text/plain": [
              "tokenizer.json:   0%|          | 0.00/436k [00:00<?, ?B/s]"
            ],
            "application/vnd.jupyter.widget-view+json": {
              "version_major": 2,
              "version_minor": 0,
              "model_id": "e3dfaadc8c624f248f9514a997905a60"
            }
          },
          "metadata": {}
        },
        {
          "output_type": "display_data",
          "data": {
            "text/plain": [
              "config.json:   0%|          | 0.00/465 [00:00<?, ?B/s]"
            ],
            "application/vnd.jupyter.widget-view+json": {
              "version_major": 2,
              "version_minor": 0,
              "model_id": "f44b8149ec8e42ee9cf84b7637dabf2a"
            }
          },
          "metadata": {}
        },
        {
          "output_type": "stream",
          "name": "stderr",
          "text": [
            "/usr/local/lib/python3.10/dist-packages/transformers/tokenization_utils_base.py:1601: FutureWarning: `clean_up_tokenization_spaces` was not set. It will be set to `True` by default. This behavior will be depracted in transformers v4.45, and will be then set to `False` by default. For more details check this issue: https://github.com/huggingface/transformers/issues/31884\n",
            "  warnings.warn(\n"
          ]
        }
      ],
      "source": [
        "tokenizer = DistilBertTokenizerFast.from_pretrained(model_name) # The model_name needs to match our pre-trained model."
      ]
    },
    {
      "cell_type": "markdown",
      "metadata": {
        "id": "oj8X7B30UvSj"
      },
      "source": [
        "Here we will create a map of our labels, or Goodreads genres, to integer keys. We take the unique labels, and then we make a dictionary that associates each label/tag with an integer.\n",
        "\n",
        "**Note:** HuggingFace documentation sometimes refers to \"labels\" as \"tags\" but these are the same thing. We use \"labels\" throughout this notebook for clarity."
      ]
    },
    {
      "cell_type": "code",
      "execution_count": null,
      "metadata": {
        "id": "tSuo8gktjsVR"
      },
      "outputs": [],
      "source": [
        "unique_labels = set(label for label in train_labels)\n",
        "label2id = {label: id for id, label in enumerate(unique_labels)}\n",
        "id2label = {id: label for label, id in label2id.items()}"
      ]
    },
    {
      "cell_type": "code",
      "execution_count": null,
      "metadata": {
        "colab": {
          "base_uri": "https://localhost:8080/"
        },
        "id": "M_iAWMtBpfhj",
        "outputId": "75c280e7-59e2-4095-f740-39f9e6577630"
      },
      "outputs": [
        {
          "output_type": "execute_result",
          "data": {
            "text/plain": [
              "dict_keys(['fantasy_paranormal', 'romance', 'children', 'poetry', 'comics_graphic', 'young_adult', 'mystery_thriller_crime', 'history_biography'])"
            ]
          },
          "metadata": {},
          "execution_count": 16
        }
      ],
      "source": [
        "label2id.keys()"
      ]
    },
    {
      "cell_type": "code",
      "execution_count": null,
      "metadata": {
        "colab": {
          "base_uri": "https://localhost:8080/"
        },
        "id": "vle8EgkelwRa",
        "outputId": "c291c3d8-038a-49da-856c-51a4a0fa2058"
      },
      "outputs": [
        {
          "output_type": "execute_result",
          "data": {
            "text/plain": [
              "dict_keys([0, 1, 2, 3, 4, 5, 6, 7])"
            ]
          },
          "metadata": {},
          "execution_count": 17
        }
      ],
      "source": [
        "id2label.keys()"
      ]
    },
    {
      "cell_type": "markdown",
      "metadata": {
        "id": "EraNFBC8VnPu"
      },
      "source": [
        "Now let's encode our texts and labels!"
      ]
    },
    {
      "cell_type": "code",
      "execution_count": null,
      "metadata": {
        "id": "uDuGq_n4pgZX"
      },
      "outputs": [],
      "source": [
        "train_encodings = tokenizer(train_texts, truncation=True, padding=True, max_length=max_length)\n",
        "test_encodings  = tokenizer(test_texts, truncation=True, padding=True, max_length=max_length)\n",
        "\n",
        "train_labels_encoded = [label2id[y] for y in train_labels]\n",
        "test_labels_encoded  = [label2id[y] for y in test_labels]"
      ]
    },
    {
      "cell_type": "code",
      "execution_count": null,
      "metadata": {
        "colab": {
          "base_uri": "https://localhost:8080/",
          "height": 221
        },
        "id": "khOZi8-CaxpT",
        "outputId": "96716ac1-4af7-47fb-ca1d-e2ea8eda69e7"
      },
      "outputs": [
        {
          "output_type": "execute_result",
          "data": {
            "text/plain": [
              "transformers.tokenization_utils_base.BatchEncoding"
            ],
            "text/html": [
              "<div style=\"max-width:800px; border: 1px solid var(--colab-border-color);\"><style>\n",
              "      pre.function-repr-contents {\n",
              "        overflow-x: auto;\n",
              "        padding: 8px 12px;\n",
              "        max-height: 500px;\n",
              "      }\n",
              "\n",
              "      pre.function-repr-contents.function-repr-contents-collapsed {\n",
              "        cursor: pointer;\n",
              "        max-height: 100px;\n",
              "      }\n",
              "    </style>\n",
              "    <pre style=\"white-space: initial; background:\n",
              "         var(--colab-secondary-surface-color); padding: 8px 12px;\n",
              "         border-bottom: 1px solid var(--colab-border-color);\"><b>transformers.tokenization_utils_base.BatchEncoding</b><br/>def __init__(data: Optional[Dict[str, Any]]=None, encoding: Optional[Union[EncodingFast, Sequence[EncodingFast]]]=None, tensor_type: Union[None, str, TensorType]=None, prepend_batch_axis: bool=False, n_sequences: Optional[int]=None)</pre><pre class=\"function-repr-contents function-repr-contents-collapsed\" style=\"\"><a class=\"filepath\" style=\"display:none\" href=\"#\">/usr/local/lib/python3.10/dist-packages/transformers/tokenization_utils_base.py</a>Holds the output of the [`~tokenization_utils_base.PreTrainedTokenizerBase.__call__`],\n",
              "[`~tokenization_utils_base.PreTrainedTokenizerBase.encode_plus`] and\n",
              "[`~tokenization_utils_base.PreTrainedTokenizerBase.batch_encode_plus`] methods (tokens, attention_masks, etc).\n",
              "\n",
              "This class is derived from a python dictionary and can be used as a dictionary. In addition, this class exposes\n",
              "utility methods to map from word/character space to token space.\n",
              "\n",
              "Args:\n",
              "    data (`dict`, *optional*):\n",
              "        Dictionary of lists/arrays/tensors returned by the `__call__`/`encode_plus`/`batch_encode_plus` methods\n",
              "        (&#x27;input_ids&#x27;, &#x27;attention_mask&#x27;, etc.).\n",
              "    encoding (`tokenizers.Encoding` or `Sequence[tokenizers.Encoding]`, *optional*):\n",
              "        If the tokenizer is a fast tokenizer which outputs additional information like mapping from word/character\n",
              "        space to token space the `tokenizers.Encoding` instance or list of instance (for batches) hold this\n",
              "        information.\n",
              "    tensor_type (`Union[None, str, TensorType]`, *optional*):\n",
              "        You can give a tensor_type here to convert the lists of integers in PyTorch/TensorFlow/Numpy Tensors at\n",
              "        initialization.\n",
              "    prepend_batch_axis (`bool`, *optional*, defaults to `False`):\n",
              "        Whether or not to add a batch axis when converting to tensors (see `tensor_type` above).\n",
              "    n_sequences (`Optional[int]`, *optional*):\n",
              "        You can give a tensor_type here to convert the lists of integers in PyTorch/TensorFlow/Numpy Tensors at\n",
              "        initialization.</pre>\n",
              "      <script>\n",
              "      if (google.colab.kernel.accessAllowed && google.colab.files && google.colab.files.view) {\n",
              "        for (const element of document.querySelectorAll('.filepath')) {\n",
              "          element.style.display = 'block'\n",
              "          element.onclick = (event) => {\n",
              "            event.preventDefault();\n",
              "            event.stopPropagation();\n",
              "            google.colab.files.view(element.textContent, 180);\n",
              "          };\n",
              "        }\n",
              "      }\n",
              "      for (const element of document.querySelectorAll('.function-repr-contents')) {\n",
              "        element.onclick = (event) => {\n",
              "          event.preventDefault();\n",
              "          event.stopPropagation();\n",
              "          element.classList.toggle('function-repr-contents-collapsed');\n",
              "        };\n",
              "      }\n",
              "      </script>\n",
              "      </div>"
            ]
          },
          "metadata": {},
          "execution_count": 19
        }
      ],
      "source": [
        "type(train_encodings)"
      ]
    },
    {
      "cell_type": "markdown",
      "metadata": {
        "id": "7X1sYEGsWDDh"
      },
      "source": [
        "**Examine a Goodreads review in the training set after encoding**"
      ]
    },
    {
      "cell_type": "code",
      "execution_count": null,
      "metadata": {
        "colab": {
          "base_uri": "https://localhost:8080/",
          "height": 107
        },
        "id": "4A89SN_ppiUP",
        "outputId": "65c034cd-3025-454c-bd31-9252a0d93a32"
      },
      "outputs": [
        {
          "output_type": "execute_result",
          "data": {
            "text/plain": [
              "'[CLS] Des ##de la prime ##ra o ##cas ##ion que le ##i a Hu ##ert ##a , en ##con ##tre much ##a f ##uer ##za en su ##s line ##as ; ta ##l ve ##z es ##o sea lo que term ##ina p ##or en ##gan ##cha ##r a su ##s se ##gu ##ido ##res . Li ##bro ideal para q ##ui ##en q ##ui ##era ace ##rca ##rse p ##or ve ##z prime ##ra a la o ##bra de E ##fra ##in Hu ##ert ##a , in ##c ##lus ##o , para q ##ui ##ene ##s des ##ean v'"
            ],
            "application/vnd.google.colaboratory.intrinsic+json": {
              "type": "string"
            }
          },
          "metadata": {},
          "execution_count": 20
        }
      ],
      "source": [
        "' '.join(train_encodings[1].tokens[0:100])"
      ]
    },
    {
      "cell_type": "markdown",
      "metadata": {
        "id": "3hvOn9RGWUMm"
      },
      "source": [
        "**Examine a Goodreads review in the test set after encoding**"
      ]
    },
    {
      "cell_type": "code",
      "execution_count": null,
      "metadata": {
        "colab": {
          "base_uri": "https://localhost:8080/",
          "height": 107
        },
        "id": "OafZQFKSwG9E",
        "outputId": "1ff93070-c865-402b-ab30-2c46ca237aa6"
      },
      "outputs": [
        {
          "output_type": "execute_result",
          "data": {
            "text/plain": [
              "\"[CLS] It almost took me a year but I finally gathered the courage to go ahead and read this . ( I ' m quite ashamed of myself ) So , if you ' re lucky enough to know S ##hai ##ma then you ' ll know that she is an incredibly smart , incredibly funny lady with a sharp wit that translates so wonderful ##ly when written . With that being said , I was , for the longest time in ##ti ##mi ##dated to sit down and give this a go and it ' s not because I\""
            ],
            "application/vnd.google.colaboratory.intrinsic+json": {
              "type": "string"
            }
          },
          "metadata": {},
          "execution_count": 21
        }
      ],
      "source": [
        "' '.join(test_encodings[1].tokens[0:100])"
      ]
    },
    {
      "cell_type": "markdown",
      "metadata": {
        "id": "1jmt15FvW8FR"
      },
      "source": [
        "**Examine the training labels after encoding**"
      ]
    },
    {
      "cell_type": "code",
      "execution_count": null,
      "metadata": {
        "colab": {
          "base_uri": "https://localhost:8080/"
        },
        "id": "ciemdVYwwMNz",
        "outputId": "71161112-1044-435c-9354-4b2cb464c228"
      },
      "outputs": [
        {
          "output_type": "execute_result",
          "data": {
            "text/plain": [
              "{0, 1, 2, 3, 4, 5, 6, 7}"
            ]
          },
          "metadata": {},
          "execution_count": 22
        }
      ],
      "source": [
        "set(train_labels_encoded)"
      ]
    },
    {
      "cell_type": "markdown",
      "metadata": {
        "id": "UK1Ngb0wXBz9"
      },
      "source": [
        "**Examine the test labels after encoding**"
      ]
    },
    {
      "cell_type": "code",
      "execution_count": null,
      "metadata": {
        "colab": {
          "base_uri": "https://localhost:8080/"
        },
        "id": "TowwulYQwOff",
        "outputId": "4c7a14a7-d91d-416d-d5ef-b6eb8d2ba303"
      },
      "outputs": [
        {
          "output_type": "execute_result",
          "data": {
            "text/plain": [
              "{0, 1, 2, 3, 4, 5, 6, 7}"
            ]
          },
          "metadata": {},
          "execution_count": 23
        }
      ],
      "source": [
        "set(test_labels_encoded)"
      ]
    },
    {
      "cell_type": "markdown",
      "metadata": {
        "id": "ChcEv01TXI7v"
      },
      "source": [
        "## Make a custom Torch dataset"
      ]
    },
    {
      "cell_type": "markdown",
      "metadata": {
        "id": "PxWcyj0LXVtY"
      },
      "source": [
        "Here we combine the encoded labels and texts into dataset objects. We use the custom Torch `MyDataSet` class to make a `train_dataset` object from  the `train_encodings` and `train_labels_encoded`. We also make a `test_dataset` object from `test_encodings`, and `test_labels_encoded`."
      ]
    },
    {
      "cell_type": "code",
      "execution_count": null,
      "metadata": {
        "id": "S4VCU-nepnqF"
      },
      "outputs": [],
      "source": [
        "class MyDataset(torch.utils.data.Dataset):\n",
        "    def __init__(self, encodings, labels):\n",
        "        self.encodings = encodings\n",
        "        self.labels = labels\n",
        "\n",
        "    def __getitem__(self, idx):\n",
        "        item = {key: torch.tensor(val[idx]) for key, val in self.encodings.items()}\n",
        "        item['labels'] = torch.tensor(self.labels[idx])\n",
        "        return item\n",
        "\n",
        "    def __len__(self):\n",
        "        return len(self.labels)"
      ]
    },
    {
      "cell_type": "code",
      "execution_count": null,
      "metadata": {
        "id": "xyCFH3XEi4Ng"
      },
      "outputs": [],
      "source": [
        "train_dataset = MyDataset(train_encodings, train_labels_encoded)\n",
        "test_dataset = MyDataset(test_encodings, test_labels_encoded)"
      ]
    },
    {
      "cell_type": "code",
      "execution_count": null,
      "metadata": {
        "colab": {
          "base_uri": "https://localhost:8080/",
          "height": 187
        },
        "id": "1F64xtzRbHCg",
        "outputId": "5ac6c00b-3bb8-458d-fe6b-a78980933ef7"
      },
      "outputs": [
        {
          "output_type": "execute_result",
          "data": {
            "text/plain": [
              "__main__.MyDataset"
            ],
            "text/html": [
              "<div style=\"max-width:800px; border: 1px solid var(--colab-border-color);\"><style>\n",
              "      pre.function-repr-contents {\n",
              "        overflow-x: auto;\n",
              "        padding: 8px 12px;\n",
              "        max-height: 500px;\n",
              "      }\n",
              "\n",
              "      pre.function-repr-contents.function-repr-contents-collapsed {\n",
              "        cursor: pointer;\n",
              "        max-height: 100px;\n",
              "      }\n",
              "    </style>\n",
              "    <pre style=\"white-space: initial; background:\n",
              "         var(--colab-secondary-surface-color); padding: 8px 12px;\n",
              "         border-bottom: 1px solid var(--colab-border-color);\"><b>MyDataset</b><br/>def __init__(encodings, labels)</pre><pre class=\"function-repr-contents function-repr-contents-collapsed\" style=\"\"><a class=\"filepath\" style=\"display:none\" href=\"#\"></a>An abstract class representing a :class:`Dataset`.\n",
              "\n",
              "All datasets that represent a map from keys to data samples should subclass\n",
              "it. All subclasses should overwrite :meth:`__getitem__`, supporting fetching a\n",
              "data sample for a given key. Subclasses could also optionally overwrite\n",
              ":meth:`__len__`, which is expected to return the size of the dataset by many\n",
              ":class:`~torch.utils.data.Sampler` implementations and the default options\n",
              "of :class:`~torch.utils.data.DataLoader`. Subclasses could also\n",
              "optionally implement :meth:`__getitems__`, for speedup batched samples\n",
              "loading. This method accepts list of indices of samples of batch and returns\n",
              "list of samples.\n",
              "\n",
              ".. note::\n",
              "  :class:`~torch.utils.data.DataLoader` by default constructs an index\n",
              "  sampler that yields integral indices.  To make it work with a map-style\n",
              "  dataset with non-integral indices/keys, a custom sampler must be provided.</pre></div>"
            ]
          },
          "metadata": {},
          "execution_count": 26
        }
      ],
      "source": [
        "type(train_dataset)"
      ]
    },
    {
      "cell_type": "code",
      "execution_count": null,
      "metadata": {
        "colab": {
          "base_uri": "https://localhost:8080/"
        },
        "id": "uTRyDYpngPjU",
        "outputId": "a7e8699c-136f-4456-a355-fdc47bad7a6d"
      },
      "outputs": [
        {
          "output_type": "execute_result",
          "data": {
            "text/plain": [
              "6400"
            ]
          },
          "metadata": {},
          "execution_count": 27
        }
      ],
      "source": [
        "len(train_dataset)"
      ]
    },
    {
      "cell_type": "markdown",
      "metadata": {
        "id": "lSoXOmDYYyAK"
      },
      "source": [
        "**Examine a Goodreads review in the Torch `training_dataset` after encoding**"
      ]
    },
    {
      "cell_type": "code",
      "execution_count": null,
      "metadata": {
        "colab": {
          "base_uri": "https://localhost:8080/",
          "height": 107
        },
        "id": "DbJerEgC1Qpc",
        "outputId": "2f661771-6cef-44d8-f654-f60711e959e8"
      },
      "outputs": [
        {
          "output_type": "execute_result",
          "data": {
            "text/plain": [
              "'[CLS] Des ##de la prime ##ra o ##cas ##ion que le ##i a Hu ##ert ##a , en ##con ##tre much ##a f ##uer ##za en su ##s line ##as ; ta ##l ve ##z es ##o sea lo que term ##ina p ##or en ##gan ##cha ##r a su ##s se ##gu ##ido ##res . Li ##bro ideal para q ##ui ##en q ##ui ##era ace ##rca ##rse p ##or ve ##z prime ##ra a la o ##bra de E ##fra ##in Hu ##ert ##a , in ##c ##lus ##o , para q ##ui ##ene ##s des ##ean v'"
            ],
            "application/vnd.google.colaboratory.intrinsic+json": {
              "type": "string"
            }
          },
          "metadata": {},
          "execution_count": 28
        }
      ],
      "source": [
        "' '.join(train_dataset.encodings[1].tokens[0:100])"
      ]
    },
    {
      "cell_type": "markdown",
      "metadata": {
        "id": "hq1M2Et4Y3LB"
      },
      "source": [
        "**Examine a Goodreads review in the Torch `test_dataset` after encoding**"
      ]
    },
    {
      "cell_type": "code",
      "execution_count": null,
      "metadata": {
        "colab": {
          "base_uri": "https://localhost:8080/",
          "height": 107
        },
        "id": "z65jnjVJ1aVB",
        "outputId": "4688955b-9577-4a67-c2c5-023e2523558a"
      },
      "outputs": [
        {
          "output_type": "execute_result",
          "data": {
            "text/plain": [
              "\"[CLS] It almost took me a year but I finally gathered the courage to go ahead and read this . ( I ' m quite ashamed of myself ) So , if you ' re lucky enough to know S ##hai ##ma then you ' ll know that she is an incredibly smart , incredibly funny lady with a sharp wit that translates so wonderful ##ly when written . With that being said , I was , for the longest time in ##ti ##mi ##dated to sit down and give this a go and it ' s not because I\""
            ],
            "application/vnd.google.colaboratory.intrinsic+json": {
              "type": "string"
            }
          },
          "metadata": {},
          "execution_count": 29
        }
      ],
      "source": [
        "' '.join(test_dataset.encodings[1].tokens[0:100])"
      ]
    },
    {
      "cell_type": "markdown",
      "metadata": {
        "id": "OkVgFcbCqKSu"
      },
      "source": [
        "## Load pre-trained BERT model"
      ]
    },
    {
      "cell_type": "markdown",
      "metadata": {
        "id": "X2pSuFUVaDhP"
      },
      "source": [
        "Here we load a pre-trained DistilBERT model and send it to CUDA.\n",
        "\n",
        "**Note:** If you decide to repeat fine-tuning after already running the following cells, make sure that you re-run this cell to re-load the original pre-trained model before fine-tuning again."
      ]
    },
    {
      "cell_type": "code",
      "execution_count": null,
      "metadata": {
        "colab": {
          "base_uri": "https://localhost:8080/",
          "height": 105,
          "referenced_widgets": [
            "274f4211357d49eb9a848f7622cea514",
            "f0869287ba5f4ec88c2c20eb3eb083b7",
            "e7cc6c25c82a4bbabcc0bb6f017e7a16",
            "52c5569945764b05bc05bca57ae3d2ce",
            "4f82451ab3714b31825e9d34826dcec1",
            "9dcd1607fe8c4a079c3df62ecbf7552a",
            "a7167c8782324486a900bbc21f01f0f9",
            "c720ed2b6c47410e9accae4b0b26ed02",
            "564aeaf75556476e9106fdbb5ce2f557",
            "f0d7f815321a4882b33120d31241b8f9",
            "84fe534459ad44749c4cb384070aa7c3"
          ]
        },
        "id": "a7k75REXp7UJ",
        "outputId": "4d398cb7-0163-4327-93ca-1667b991e6a9"
      },
      "outputs": [
        {
          "output_type": "display_data",
          "data": {
            "text/plain": [
              "model.safetensors:   0%|          | 0.00/263M [00:00<?, ?B/s]"
            ],
            "application/vnd.jupyter.widget-view+json": {
              "version_major": 2,
              "version_minor": 0,
              "model_id": "274f4211357d49eb9a848f7622cea514"
            }
          },
          "metadata": {}
        },
        {
          "output_type": "stream",
          "name": "stderr",
          "text": [
            "Some weights of DistilBertForSequenceClassification were not initialized from the model checkpoint at distilbert-base-cased and are newly initialized: ['classifier.bias', 'classifier.weight', 'pre_classifier.bias', 'pre_classifier.weight']\n",
            "You should probably TRAIN this model on a down-stream task to be able to use it for predictions and inference.\n"
          ]
        }
      ],
      "source": [
        "# The model_name needs to match the name used for the tokenizer above.\n",
        "model = DistilBertForSequenceClassification.from_pretrained(\n",
        "    model_name,\n",
        "    num_labels=len(id2label)\n",
        ").to(device_name)"
      ]
    },
    {
      "cell_type": "markdown",
      "metadata": {
        "id": "VRQZuqcAqQNI"
      },
      "source": [
        "## Set the BERT fine-tuning parameters\n",
        "\n",
        "These are the arguments we'll set in the HuggingFace TrainingArguments objects, which we'll then pass to the HuggingFace Trainer object. There are many more possible arguments, but here we highlight the basics and some common gotchas.\n",
        "\n",
        "When training your own model, you should search over these parameters to find the best settings for your particular dataset. You should use a held-out set of validation data for this step."
      ]
    },
    {
      "cell_type": "markdown",
      "metadata": {
        "id": "yYOaH9AhbCD_"
      },
      "source": [
        "| Parameter | Explanation |\n",
        "|-----------| ------------|\n",
        "| num_train_epochs | total number of training epochs (how many times to pass through the entire dataset; too much can cause overfitting) |\n",
        "| per_device_train_batch_size | batch size per device during training |\n",
        "| per_device_eval_batch_size |  batch size for evaluation |\n",
        "|  warmup_steps |  number of warmup steps for learning rate scheduler (set lower because of small dataset size) |\n",
        "| weight_decay | strength of weight decay (reduces size of weights, like regularization) |\n",
        "| output_dir | output directory for the fine-tuned model and configuration files |\n",
        "| logging_dir | directory for storing logs |\n",
        "| logging_steps | how often to print logging output (so that we can stop training early if the loss isn't going down) |\n",
        "| evaluation_strategy | evaluate while training so that we can see the accuracy going up |"
      ]
    },
    {
      "cell_type": "code",
      "execution_count": null,
      "metadata": {
        "id": "3idCswBVg6v_"
      },
      "outputs": [],
      "source": [
        "training_args = TrainingArguments(\n",
        "    num_train_epochs=3,              # total number of training epochs\n",
        "    per_device_train_batch_size=16,  # batch size per device during training\n",
        "    per_device_eval_batch_size=20,   # batch size for evaluation\n",
        "    learning_rate=5e-5,              # initial learning rate for Adam optimizer\n",
        "    warmup_steps=100,                # number of warmup steps for learning rate scheduler (set lower because of small dataset size)\n",
        "    weight_decay=0.01,               # strength of weight decay\n",
        "    output_dir='./results',          # output directory\n",
        "    logging_dir='./logs',            # directory for storing logs\n",
        "    logging_steps=100,               # number of steps to output logging (set lower because of small dataset size)\n",
        "    eval_strategy='steps',     # evaluate during fine-tuning so that we can see progress\n",
        ")"
      ]
    },
    {
      "cell_type": "markdown",
      "metadata": {
        "id": "8Pb3xtidn-HJ"
      },
      "source": [
        "## Fine-tune the BERT model"
      ]
    },
    {
      "cell_type": "markdown",
      "metadata": {
        "id": "z_SN_oGLV8Vw"
      },
      "source": [
        "First, we define a custom evaluation function that returns a score (here, F1). You could modify this function to return precision, recall, accuracy, and/or other metrics."
      ]
    },
    {
      "cell_type": "code",
      "execution_count": null,
      "metadata": {
        "id": "pNIt7fcnqUCp"
      },
      "outputs": [],
      "source": [
        "def compute_metrics(pred):\n",
        "  labels = pred.label_ids\n",
        "  preds = pred.predictions.argmax(-1)\n",
        "  #score = accuracy_score(labels, preds)\n",
        "  score = f1_score(labels, preds, average='weighted')\n",
        "  return {\n",
        "      'f1': score,\n",
        "  }"
      ]
    },
    {
      "cell_type": "markdown",
      "metadata": {
        "id": "g9xl5QLmWsAw"
      },
      "source": [
        "Then we create a HuggingFace `Trainer` object using the `TrainingArguments` object that we created above. We also send our `compute_metrics` function to the `Trainer` object, along with our test and train datasets."
      ]
    },
    {
      "cell_type": "code",
      "execution_count": null,
      "metadata": {
        "id": "fgc8FS50qV0_"
      },
      "outputs": [],
      "source": [
        "trainer = Trainer(\n",
        "    model=model,                         # the instantiated 🤗 Transformers model to be trained\n",
        "    args=training_args,                  # training arguments, defined above\n",
        "    train_dataset=train_dataset,         # training dataset\n",
        "    eval_dataset=test_dataset,           # evaluation dataset (usually a validation set; here we just send our test set)\n",
        "    compute_metrics=compute_metrics      # our custom evaluation function\n",
        ")"
      ]
    },
    {
      "cell_type": "markdown",
      "metadata": {
        "id": "Mo5QVLYjXGCN"
      },
      "source": [
        "Time to finally fine-tune!\n",
        "\n",
        "**This is what we've been aiming for this whole time! All the work of tokenizing, creating datasets, and setting the training arguments was for this cell.**\n",
        "\n",
        "Be patient; if you've set everything in Colab to use GPUs, then it should only take a few minutes to run, but if you're running on CPU, it can take hours.\n",
        "\n",
        "After every 100 steps (as we specified in the `TrainingArguments` object), the trainer will output the current state of the model, including the training loss, validation (\"test\") loss, and score (from our `compute_metrics` function).\n",
        "\n",
        "You should see the loss going down and the score going up. If instead they are staying the same or oscillating, you probably need to change the fine-tuning parameters."
      ]
    },
    {
      "cell_type": "code",
      "execution_count": null,
      "metadata": {
        "colab": {
          "base_uri": "https://localhost:8080/",
          "height": 584
        },
        "id": "7YmEFHZOPsE8",
        "outputId": "fc710a99-2ddc-4915-e650-a9f3f5b6b0fb"
      },
      "outputs": [
        {
          "output_type": "display_data",
          "data": {
            "text/plain": [
              "<IPython.core.display.HTML object>"
            ],
            "text/html": [
              "\n",
              "    <div>\n",
              "      \n",
              "      <progress value='1200' max='1200' style='width:300px; height:20px; vertical-align: middle;'></progress>\n",
              "      [1200/1200 20:36, Epoch 3/3]\n",
              "    </div>\n",
              "    <table border=\"1\" class=\"dataframe\">\n",
              "  <thead>\n",
              " <tr style=\"text-align: left;\">\n",
              "      <th>Step</th>\n",
              "      <th>Training Loss</th>\n",
              "      <th>Validation Loss</th>\n",
              "      <th>F1</th>\n",
              "    </tr>\n",
              "  </thead>\n",
              "  <tbody>\n",
              "    <tr>\n",
              "      <td>100</td>\n",
              "      <td>1.565500</td>\n",
              "      <td>1.452993</td>\n",
              "      <td>0.481265</td>\n",
              "    </tr>\n",
              "    <tr>\n",
              "      <td>200</td>\n",
              "      <td>1.473300</td>\n",
              "      <td>1.403899</td>\n",
              "      <td>0.454635</td>\n",
              "    </tr>\n",
              "    <tr>\n",
              "      <td>300</td>\n",
              "      <td>1.440500</td>\n",
              "      <td>1.335363</td>\n",
              "      <td>0.518198</td>\n",
              "    </tr>\n",
              "    <tr>\n",
              "      <td>400</td>\n",
              "      <td>1.374100</td>\n",
              "      <td>1.308343</td>\n",
              "      <td>0.527375</td>\n",
              "    </tr>\n",
              "    <tr>\n",
              "      <td>500</td>\n",
              "      <td>1.063800</td>\n",
              "      <td>1.337107</td>\n",
              "      <td>0.522959</td>\n",
              "    </tr>\n",
              "    <tr>\n",
              "      <td>600</td>\n",
              "      <td>1.071800</td>\n",
              "      <td>1.328218</td>\n",
              "      <td>0.518814</td>\n",
              "    </tr>\n",
              "    <tr>\n",
              "      <td>700</td>\n",
              "      <td>1.046000</td>\n",
              "      <td>1.294802</td>\n",
              "      <td>0.532605</td>\n",
              "    </tr>\n",
              "    <tr>\n",
              "      <td>800</td>\n",
              "      <td>1.003900</td>\n",
              "      <td>1.324764</td>\n",
              "      <td>0.514872</td>\n",
              "    </tr>\n",
              "    <tr>\n",
              "      <td>900</td>\n",
              "      <td>0.692600</td>\n",
              "      <td>1.370052</td>\n",
              "      <td>0.531432</td>\n",
              "    </tr>\n",
              "    <tr>\n",
              "      <td>1000</td>\n",
              "      <td>0.690000</td>\n",
              "      <td>1.362837</td>\n",
              "      <td>0.536798</td>\n",
              "    </tr>\n",
              "    <tr>\n",
              "      <td>1100</td>\n",
              "      <td>0.655800</td>\n",
              "      <td>1.371466</td>\n",
              "      <td>0.533111</td>\n",
              "    </tr>\n",
              "    <tr>\n",
              "      <td>1200</td>\n",
              "      <td>0.670200</td>\n",
              "      <td>1.365520</td>\n",
              "      <td>0.540142</td>\n",
              "    </tr>\n",
              "  </tbody>\n",
              "</table><p>"
            ]
          },
          "metadata": {}
        },
        {
          "output_type": "display_data",
          "data": {
            "text/plain": [
              "<IPython.core.display.HTML object>"
            ],
            "text/html": [
              "\n",
              "    <div>\n",
              "      \n",
              "      <progress value='101' max='1200' style='width:300px; height:20px; vertical-align: middle;'></progress>\n",
              "      [ 101/1200 01:08 < 12:45, 1.44 it/s, Epoch 0.25/3]\n",
              "    </div>\n",
              "    <table border=\"1\" class=\"dataframe\">\n",
              "  <thead>\n",
              " <tr style=\"text-align: left;\">\n",
              "      <th>Step</th>\n",
              "      <th>Training Loss</th>\n",
              "      <th>Validation Loss</th>\n",
              "    </tr>\n",
              "  </thead>\n",
              "  <tbody>\n",
              "  </tbody>\n",
              "</table><p>\n",
              "    <div>\n",
              "      \n",
              "      <progress value='160' max='80' style='width:300px; height:20px; vertical-align: middle;'></progress>\n",
              "      [80/80 03:00]\n",
              "    </div>\n",
              "    "
            ]
          },
          "metadata": {}
        },
        {
          "output_type": "execute_result",
          "data": {
            "text/plain": [
              "TrainOutput(global_step=1200, training_loss=1.0622945149739584, metrics={'train_runtime': 1237.6258, 'train_samples_per_second': 15.514, 'train_steps_per_second': 0.97, 'total_flos': 2543646198988800.0, 'train_loss': 1.0622945149739584, 'epoch': 3.0})"
            ]
          },
          "metadata": {},
          "execution_count": 37
        }
      ],
      "source": [
        "# Turn off weights and biases logging, which requires an API key\n",
        "import os\n",
        "os.environ[\"WANDB_DISABLED\"] = \"true\"\n",
        "\n",
        "trainer.train()"
      ]
    },
    {
      "cell_type": "markdown",
      "metadata": {
        "id": "kXeIZ_LFqeps"
      },
      "source": [
        "## Save fine-tuned model\n",
        "\n",
        "The following cell will save the model and its configuration files to a directory in Colab. To preserve this model for future use, you should download the model to your computer."
      ]
    },
    {
      "cell_type": "code",
      "execution_count": null,
      "metadata": {
        "id": "kxkDWDfvqeAo"
      },
      "outputs": [],
      "source": [
        "trainer.save_model(cached_model_directory_name)"
      ]
    },
    {
      "cell_type": "markdown",
      "metadata": {
        "id": "epiLftYkZrzc"
      },
      "source": [
        "(Optional) If you've already fine-tuned and saved the model, you can reload it using the following line. You don't have to run fine-tuning every time you want to evaluate."
      ]
    },
    {
      "cell_type": "code",
      "execution_count": null,
      "metadata": {
        "id": "9A54QySLrO5I"
      },
      "outputs": [],
      "source": [
        "# trainer = DistilBertForSequenceClassification.from_pretrained(cached_model_directory_name)"
      ]
    },
    {
      "cell_type": "markdown",
      "metadata": {
        "id": "JpzV4hFsLmZ6"
      },
      "source": [
        "## Evaluate fine-tuned model"
      ]
    },
    {
      "cell_type": "markdown",
      "metadata": {
        "id": "-IvfhrBtYYcz"
      },
      "source": [
        "The following function of the `Trainer` object will run the built-in evaluation, including our `compute_metrics` function."
      ]
    },
    {
      "cell_type": "code",
      "execution_count": null,
      "metadata": {
        "colab": {
          "base_uri": "https://localhost:8080/",
          "height": 144
        },
        "id": "dshtTH0WLtM1",
        "outputId": "fb989d2b-388c-4aec-ab4a-87b8acfdf57b"
      },
      "outputs": [
        {
          "output_type": "display_data",
          "data": {
            "text/plain": [
              "<IPython.core.display.HTML object>"
            ],
            "text/html": [
              "\n",
              "    <div>\n",
              "      \n",
              "      <progress value='80' max='80' style='width:300px; height:20px; vertical-align: middle;'></progress>\n",
              "      [80/80 00:24]\n",
              "    </div>\n",
              "    "
            ]
          },
          "metadata": {}
        },
        {
          "output_type": "execute_result",
          "data": {
            "text/plain": [
              "{'eval_loss': 1.3655201196670532,\n",
              " 'eval_f1': 0.5401417675653228,\n",
              " 'eval_runtime': 25.0538,\n",
              " 'eval_samples_per_second': 63.863,\n",
              " 'eval_steps_per_second': 3.193,\n",
              " 'epoch': 3.0}"
            ]
          },
          "metadata": {},
          "execution_count": 39
        }
      ],
      "source": [
        "trainer.evaluate()"
      ]
    },
    {
      "cell_type": "markdown",
      "metadata": {
        "id": "ILJGLcCjYhPt"
      },
      "source": [
        "But we might want to do more fine-grained analysis of the model, so we extract the predicted labels."
      ]
    },
    {
      "cell_type": "code",
      "execution_count": null,
      "metadata": {
        "colab": {
          "base_uri": "https://localhost:8080/",
          "height": 17
        },
        "id": "v_E8oVjeLuv2",
        "outputId": "12eba761-97a7-4d8c-a4f6-829788ce0793"
      },
      "outputs": [
        {
          "output_type": "display_data",
          "data": {
            "text/plain": [
              "<IPython.core.display.HTML object>"
            ],
            "text/html": []
          },
          "metadata": {}
        }
      ],
      "source": [
        "predicted_results = trainer.predict(test_dataset)"
      ]
    },
    {
      "cell_type": "code",
      "execution_count": null,
      "metadata": {
        "colab": {
          "base_uri": "https://localhost:8080/"
        },
        "id": "WUYGfzczOuJE",
        "outputId": "8ee86d6d-eacc-40bc-9d2c-3491010dce74"
      },
      "outputs": [
        {
          "output_type": "execute_result",
          "data": {
            "text/plain": [
              "(1600, 8)"
            ]
          },
          "metadata": {},
          "execution_count": 41
        }
      ],
      "source": [
        "predicted_results.predictions.shape"
      ]
    },
    {
      "cell_type": "code",
      "execution_count": null,
      "metadata": {
        "colab": {
          "base_uri": "https://localhost:8080/"
        },
        "id": "HYV-aQzJlvGf",
        "outputId": "83c2847b-b025-47de-c455-074a5315d084"
      },
      "outputs": [
        {
          "output_type": "execute_result",
          "data": {
            "text/plain": [
              "array([-1.1912552 , -0.03348731, -1.5032191 ,  2.6756837 , -1.1938857 ,\n",
              "       -0.69624215, -1.2882357 ,  1.8486459 ], dtype=float32)"
            ]
          },
          "metadata": {},
          "execution_count": 42
        }
      ],
      "source": [
        "predicted_results.predictions[1]"
      ]
    },
    {
      "cell_type": "code",
      "execution_count": null,
      "metadata": {
        "id": "hqUTa5irLyN8"
      },
      "outputs": [],
      "source": [
        "predicted_labels = predicted_results.predictions.argmax(-1) # Get the highest probability prediction\n",
        "predicted_labels = predicted_labels.flatten().tolist()      # Flatten the predictions into a 1D list\n",
        "predicted_labels = [id2label[l] for l in predicted_labels]  # Convert from integers back to strings for readability"
      ]
    },
    {
      "cell_type": "code",
      "execution_count": null,
      "metadata": {
        "colab": {
          "base_uri": "https://localhost:8080/"
        },
        "id": "Y2jtqnJbPMpu",
        "outputId": "a76a3eaf-1b86-4dc8-a51a-6b5625fab221"
      },
      "outputs": [
        {
          "output_type": "execute_result",
          "data": {
            "text/plain": [
              "1600"
            ]
          },
          "metadata": {},
          "execution_count": 44
        }
      ],
      "source": [
        "len(predicted_labels)"
      ]
    },
    {
      "cell_type": "code",
      "execution_count": null,
      "metadata": {
        "colab": {
          "base_uri": "https://localhost:8080/"
        },
        "id": "fVJn0nTkmIhM",
        "outputId": "424e42b0-fe06-4a03-a9ae-9077186ba756"
      },
      "outputs": [
        {
          "output_type": "execute_result",
          "data": {
            "text/plain": [
              "['poetry', 'poetry', 'poetry', 'poetry', 'poetry']"
            ]
          },
          "metadata": {},
          "execution_count": 45
        }
      ],
      "source": [
        "predicted_labels[51:56]"
      ]
    },
    {
      "cell_type": "code",
      "execution_count": null,
      "metadata": {
        "colab": {
          "base_uri": "https://localhost:8080/"
        },
        "id": "qVcMU45fLzli",
        "outputId": "12435a9d-8d85-4edd-a1df-738bea03955d"
      },
      "outputs": [
        {
          "output_type": "stream",
          "name": "stdout",
          "text": [
            "                        precision    recall  f1-score   support\n",
            "\n",
            "              children       0.60      0.60      0.60       200\n",
            "        comics_graphic       0.66      0.64      0.65       200\n",
            "    fantasy_paranormal       0.42      0.41      0.41       200\n",
            "     history_biography       0.56      0.59      0.58       200\n",
            "mystery_thriller_crime       0.52      0.51      0.51       200\n",
            "                poetry       0.74      0.76      0.75       200\n",
            "               romance       0.48      0.45      0.46       200\n",
            "           young_adult       0.35      0.38      0.36       200\n",
            "\n",
            "              accuracy                           0.54      1600\n",
            "             macro avg       0.54      0.54      0.54      1600\n",
            "          weighted avg       0.54      0.54      0.54      1600\n",
            "\n"
          ]
        }
      ],
      "source": [
        "print(classification_report(test_labels,\n",
        "                            predicted_labels))"
      ]
    },
    {
      "cell_type": "markdown",
      "metadata": {
        "id": "ddk-iKTQF-K3"
      },
      "source": [
        "## Pull out correct and incorrect classifications for examination\n",
        "\n",
        "Let's use our predicted labels for some analysis!\n",
        "\n",
        "Now that we've fine-tuned and pulled out our predicted labels, the BERT part of this tutorial is done. You can now use the predicted labels in the same way you would use any set of predicted labels from any classification model. We'll show some examples here.\n",
        "\n",
        "First, let's print out some example predictions that were correct."
      ]
    },
    {
      "cell_type": "code",
      "execution_count": null,
      "metadata": {
        "colab": {
          "base_uri": "https://localhost:8080/"
        },
        "id": "l7KrvGuZkDAV",
        "outputId": "5139e0ff-ffde-43f3-a369-7c6fcb18f7fc"
      },
      "outputs": [
        {
          "output_type": "stream",
          "name": "stdout",
          "text": [
            "LABEL: poetry\n",
            "REVIEW TEXT: I loved these poems so much I blurbbed the book...and I mean every word: \n",
            " These gorgeous poems are  ...\n",
            "\n",
            "LABEL: comics_graphic\n",
            "REVIEW TEXT: If you've got a kid who reads a lot of comics and is a fan this book is great. Everyone loves to rea ...\n",
            "\n",
            "LABEL: young_adult\n",
            "REVIEW TEXT: Ended up liking this more than I initially expected. I have to say, I liked Green's Will Grayson bet ...\n",
            "\n",
            "LABEL: romance\n",
            "REVIEW TEXT: Slightly better than Marcia's book but not quite as good as Greg's. \n",
            " I am enjoying this series. It  ...\n",
            "\n",
            "LABEL: mystery_thriller_crime\n",
            "REVIEW TEXT: I'm being biased in giving 4* for this book. \n",
            " Jemina, a TV star, planned for a quiet transquil holi ...\n",
            "\n",
            "LABEL: romance\n",
            "REVIEW TEXT: Stuck-Up Suit by Vi Keeland and Penelope Ward \n",
            " 4 stars!!! \n",
            " \"If being an asshole were an art form,  ...\n",
            "\n",
            "LABEL: history_biography\n",
            "REVIEW TEXT: Should be required reading everywhere. Buy it. Read it. A thoughtful, well-written, inspiring accoun ...\n",
            "\n",
            "LABEL: poetry\n",
            "REVIEW TEXT: klm fDy ...\n",
            "\n",
            "LABEL: poetry\n",
            "REVIEW TEXT: This is the perfect collection of poetry, no matter what your relationship with poetry is -- whether ...\n",
            "\n",
            "LABEL: comics_graphic\n",
            "REVIEW TEXT: After a long time, I managed to get my hands on a new Asterix and Obelix story. There are new author ...\n",
            "\n",
            "LABEL: comics_graphic\n",
            "REVIEW TEXT: A screenplay Jim Henson never got to make into a movie now made into a graphic novel. This reminded  ...\n",
            "\n",
            "LABEL: mystery_thriller_crime\n",
            "REVIEW TEXT: **2015 Reading Challenge Prompt #43: a book that takes place in your hometown** \n",
            " Technically, I was ...\n",
            "\n"
          ]
        }
      ],
      "source": [
        "for _true_label, _predicted_label, _text in random.sample(list(zip(test_labels, predicted_labels, test_texts)), 20):\n",
        "  if _true_label == _predicted_label:\n",
        "    print('LABEL:', _true_label)\n",
        "    print('REVIEW TEXT:', _text[:100], '...')\n",
        "    print()"
      ]
    },
    {
      "cell_type": "markdown",
      "metadata": {
        "id": "pW30Z6ynkDPI"
      },
      "source": [
        "Now let's print out some misclassifications."
      ]
    },
    {
      "cell_type": "code",
      "execution_count": null,
      "metadata": {
        "colab": {
          "base_uri": "https://localhost:8080/"
        },
        "id": "Xmx1RSKDkIpG",
        "outputId": "7e14466e-1b20-4c9b-86e6-5f3860ffbb3c"
      },
      "outputs": [
        {
          "output_type": "stream",
          "name": "stdout",
          "text": [
            "TRUE LABEL: history_biography\n",
            "PREDICTED LABEL: fantasy_paranormal\n",
            "REVIEW TEXT: I read this book when I was a teenager. I distinctly remember staying up all night to get to the end ...\n",
            "\n",
            "TRUE LABEL: young_adult\n",
            "PREDICTED LABEL: fantasy_paranormal\n",
            "REVIEW TEXT: I really enjoyed this book. While the first chapter wasn't anything to write home about, I greatly e ...\n",
            "\n",
            "TRUE LABEL: children\n",
            "PREDICTED LABEL: young_adult\n",
            "REVIEW TEXT: That five star-rating is from an earlier read, or memory of this novel. \n",
            " This reading, it's more of ...\n",
            "\n",
            "TRUE LABEL: young_adult\n",
            "PREDICTED LABEL: children\n",
            "REVIEW TEXT: Mi regalo de cumpleanos... me ha encantado :). 100% recomensable. \n",
            " Pronto hare resena en mi blog ...\n",
            "\n",
            "TRUE LABEL: children\n",
            "PREDICTED LABEL: mystery_thriller_crime\n",
            "REVIEW TEXT: My elementary students love Geronimo Stilton. I found that this particular novel was a little bit di ...\n",
            "\n"
          ]
        }
      ],
      "source": [
        "for _true_label, _predicted_label, _text in random.sample(list(zip(test_labels, predicted_labels, test_texts)), 20):\n",
        "  if _true_label != _predicted_label:\n",
        "    print('TRUE LABEL:', _true_label)\n",
        "    print('PREDICTED LABEL:', _predicted_label)\n",
        "    print('REVIEW TEXT:', _text[:100], '...')\n",
        "    print()"
      ]
    },
    {
      "cell_type": "markdown",
      "metadata": {
        "id": "3MZqyFrckJBB"
      },
      "source": [
        "Finally, let's create some heatmaps to examine misclassification patterns. We could use these patterns to think about similarities and differences between genres, according to book reviewers."
      ]
    },
    {
      "cell_type": "code",
      "execution_count": null,
      "metadata": {
        "id": "v8yJ3-Z7hLXf"
      },
      "outputs": [],
      "source": [
        "genre_classifications_dict = defaultdict(int)\n",
        "for _true_label, _predicted_label in zip(test_labels, predicted_labels):\n",
        "  genre_classifications_dict[(_true_label, _predicted_label)] += 1\n",
        "\n",
        "dicts_to_plot = []\n",
        "for (_true_genre, _predicted_genre), _count in genre_classifications_dict.items():\n",
        "  dicts_to_plot.append({'True Genre': _true_genre,\n",
        "                        'Predicted Genre': _predicted_genre,\n",
        "                        'Number of Classifications': _count})\n",
        "\n",
        "df_to_plot = pd.DataFrame(dicts_to_plot)\n",
        "df_wide = df_to_plot.pivot_table(index='True Genre',\n",
        "                                 columns='Predicted Genre',\n",
        "                                 values='Number of Classifications')"
      ]
    },
    {
      "cell_type": "code",
      "execution_count": null,
      "metadata": {
        "colab": {
          "base_uri": "https://localhost:8080/",
          "height": 660
        },
        "id": "wSAgS6tvivvz",
        "outputId": "92f2b094-079f-42b9-f932-9add2da314f8"
      },
      "outputs": [
        {
          "output_type": "display_data",
          "data": {
            "text/plain": [
              "<Figure size 900x700 with 2 Axes>"
            ],
            "image/png": "[encoded data removed]"
          },
          "metadata": {}
        }
      ],
      "source": [
        "plt.figure(figsize=(9,7))\n",
        "sns.set(style='ticks', font_scale=1.2)\n",
        "sns.heatmap(df_wide, linewidths=1, cmap='Purples')\n",
        "plt.xticks(rotation=45, ha='right')\n",
        "plt.tight_layout()\n",
        "plt.show()"
      ]
    },
    {
      "cell_type": "markdown",
      "metadata": {
        "id": "eiukJdYRqyjm"
      },
      "source": [
        "Looks good! We can see that overall, our model is assigning the correct labels for each genre.\n",
        "\n",
        "Now, let's remove the diagonal from the plot to highlight the misclassifications."
      ]
    },
    {
      "cell_type": "code",
      "execution_count": null,
      "metadata": {
        "id": "O7GJQfYxi3ET"
      },
      "outputs": [],
      "source": [
        "genre_classifications_dict = defaultdict(int)\n",
        "for _true_label, _predicted_label in zip(test_labels, predicted_labels):\n",
        "  if _true_label != _predicted_label: # Remove the diagonal to highlight misclassifications\n",
        "    genre_classifications_dict[(_true_label, _predicted_label)] += 1\n",
        "\n",
        "dicts_to_plot = []\n",
        "for (_true_genre, _predicted_genre), _count in genre_classifications_dict.items():\n",
        "  dicts_to_plot.append({'True Genre': _true_genre,\n",
        "                        'Predicted Genre': _predicted_genre,\n",
        "                        'Number of Classifications': _count})\n",
        "\n",
        "df_to_plot = pd.DataFrame(dicts_to_plot)\n",
        "df_wide = df_to_plot.pivot_table(index='True Genre',\n",
        "                                 columns='Predicted Genre',\n",
        "                                 values='Number of Classifications')"
      ]
    },
    {
      "cell_type": "code",
      "execution_count": null,
      "metadata": {
        "colab": {
          "base_uri": "https://localhost:8080/",
          "height": 669
        },
        "id": "3oM09JGrjX_y",
        "outputId": "a3d29b0e-d6d2-4761-f2df-bebc12a355c5"
      },
      "outputs": [
        {
          "output_type": "display_data",
          "data": {
            "text/plain": [
              "<Figure size 900x700 with 2 Axes>"
            ],
            "image/png": "[encoded data removed]"
          },
          "metadata": {}
        }
      ],
      "source": [
        "plt.figure(figsize=(9,7))\n",
        "sns.set(style='ticks', font_scale=1.2)\n",
        "sns.heatmap(df_wide, linewidths=1, cmap='Purples')\n",
        "plt.xticks(rotation=45, ha='right')\n",
        "plt.tight_layout()\n",
        "plt.show()"
      ]
    },
    {
      "cell_type": "markdown",
      "metadata": {
        "id": "w99vVZCVl8g0"
      },
      "source": [
        "There's much more you can do with your own dataset and labels! Classification can be used to apply a small set of labels across a big dataset; to explore misclassifications to better understand users; and much more! We hope you'll use this tutorial in all kinds of creative ways."
      ]
    },
    {
      "cell_type": "code",
      "execution_count": null,
      "metadata": {
        "id": "ZEnxI21djZXT"
      },
      "outputs": [],
      "source": []
    }
  ],
  "metadata": {
    "accelerator": "GPU",
    "colab": {
      "gpuType": "T4",
      "provenance": []
    },
    "kernelspec": {
      "display_name": "Python 3 (ipykernel)",
      "language": "python",
      "name": "python3"
    },
    "language_info": {
      "codemirror_mode": {
        "name": "ipython",
        "version": 3
      },
      "file_extension": ".py",
      "mimetype": "text/x-python",
      "name": "python",
      "nbconvert_exporter": "python",
      "pygments_lexer": "ipython3",
      "version": "3.11.9"
    },
    "widgets": {
      "application/vnd.jupyter.widget-state+json": {
        "628f245858de4583bb5195b7b9855a50": {
          "model_module": "@jupyter-widgets/controls",
          "model_name": "HBoxModel",
          "model_module_version": "1.5.0",
          "state": {
            "_dom_classes": [],
            "_model_module": "@jupyter-widgets/controls",
            "_model_module_version": "1.5.0",
            "_model_name": "HBoxModel",
            "_view_count": null,
            "_view_module": "@jupyter-widgets/controls",
            "_view_module_version": "1.5.0",
            "_view_name": "HBoxView",
            "box_style": "",
            "children": [
              "IPY_MODEL_a54deaeb54ad48d2a8cd64c8e2a2619d",
              "IPY_MODEL_c68e7181794b4e01b7a3cce9be332c8e",
              "IPY_MODEL_5078aa87218c40e68cca50ad791693ff"
            ],
            "layout": "IPY_MODEL_595453f8aad64fabb81aa54a588779a3"
          }
        },
        "a54deaeb54ad48d2a8cd64c8e2a2619d": {
          "model_module": "@jupyter-widgets/controls",
          "model_name": "HTMLModel",
          "model_module_version": "1.5.0",
          "state": {
            "_dom_classes": [],
            "_model_module": "@jupyter-widgets/controls",
            "_model_module_version": "1.5.0",
            "_model_name": "HTMLModel",
            "_view_count": null,
            "_view_module": "@jupyter-widgets/controls",
            "_view_module_version": "1.5.0",
            "_view_name": "HTMLView",
            "description": "",
            "description_tooltip": null,
            "layout": "IPY_MODEL_4b29aaad07164e8082de01c206a213c8",
            "placeholder": "​",
            "style": "IPY_MODEL_7c8abcce393a4f34871a5c536a002770",
            "value": "tokenizer_config.json: 100%"
          }
        },
        "c68e7181794b4e01b7a3cce9be332c8e": {
          "model_module": "@jupyter-widgets/controls",
          "model_name": "FloatProgressModel",
          "model_module_version": "1.5.0",
          "state": {
            "_dom_classes": [],
            "_model_module": "@jupyter-widgets/controls",
            "_model_module_version": "1.5.0",
            "_model_name": "FloatProgressModel",
            "_view_count": null,
            "_view_module": "@jupyter-widgets/controls",
            "_view_module_version": "1.5.0",
            "_view_name": "ProgressView",
            "bar_style": "success",
            "description": "",
            "description_tooltip": null,
            "layout": "IPY_MODEL_e06dc8621c0b403ab429f684c441f31e",
            "max": 49,
            "min": 0,
            "orientation": "horizontal",
            "style": "IPY_MODEL_c27d181889fd4828ab2a1610932e048e",
            "value": 49
          }
        },
        "5078aa87218c40e68cca50ad791693ff": {
          "model_module": "@jupyter-widgets/controls",
          "model_name": "HTMLModel",
          "model_module_version": "1.5.0",
          "state": {
            "_dom_classes": [],
            "_model_module": "@jupyter-widgets/controls",
            "_model_module_version": "1.5.0",
            "_model_name": "HTMLModel",
            "_view_count": null,
            "_view_module": "@jupyter-widgets/controls",
            "_view_module_version": "1.5.0",
            "_view_name": "HTMLView",
            "description": "",
            "description_tooltip": null,
            "layout": "IPY_MODEL_12cdc80f65f7436599241fd3d22ec1db",
            "placeholder": "​",
            "style": "IPY_MODEL_b28a1b61a94f444197408c32850c752d",
            "value": " 49.0/49.0 [00:00&lt;00:00, 3.34kB/s]"
          }
        },
        "595453f8aad64fabb81aa54a588779a3": {
          "model_module": "@jupyter-widgets/base",
          "model_name": "LayoutModel",
          "model_module_version": "1.2.0",
          "state": {
            "_model_module": "@jupyter-widgets/base",
            "_model_module_version": "1.2.0",
            "_model_name": "LayoutModel",
            "_view_count": null,
            "_view_module": "@jupyter-widgets/base",
            "_view_module_version": "1.2.0",
            "_view_name": "LayoutView",
            "align_content": null,
            "align_items": null,
            "align_self": null,
            "border": null,
            "bottom": null,
            "display": null,
            "flex": null,
            "flex_flow": null,
            "grid_area": null,
            "grid_auto_columns": null,
            "grid_auto_flow": null,
            "grid_auto_rows": null,
            "grid_column": null,
            "grid_gap": null,
            "grid_row": null,
            "grid_template_areas": null,
            "grid_template_columns": null,
            "grid_template_rows": null,
            "height": null,
            "justify_content": null,
            "justify_items": null,
            "left": null,
            "margin": null,
            "max_height": null,
            "max_width": null,
            "min_height": null,
            "min_width": null,
            "object_fit": null,
            "object_position": null,
            "order": null,
            "overflow": null,
            "overflow_x": null,
            "overflow_y": null,
            "padding": null,
            "right": null,
            "top": null,
            "visibility": null,
            "width": null
          }
        },
        "4b29aaad07164e8082de01c206a213c8": {
          "model_module": "@jupyter-widgets/base",
          "model_name": "LayoutModel",
          "model_module_version": "1.2.0",
          "state": {
            "_model_module": "@jupyter-widgets/base",
            "_model_module_version": "1.2.0",
            "_model_name": "LayoutModel",
            "_view_count": null,
            "_view_module": "@jupyter-widgets/base",
            "_view_module_version": "1.2.0",
            "_view_name": "LayoutView",
            "align_content": null,
            "align_items": null,
            "align_self": null,
            "border": null,
            "bottom": null,
            "display": null,
            "flex": null,
            "flex_flow": null,
            "grid_area": null,
            "grid_auto_columns": null,
            "grid_auto_flow": null,
            "grid_auto_rows": null,
            "grid_column": null,
            "grid_gap": null,
            "grid_row": null,
            "grid_template_areas": null,
            "grid_template_columns": null,
            "grid_template_rows": null,
            "height": null,
            "justify_content": null,
            "justify_items": null,
            "left": null,
            "margin": null,
            "max_height": null,
            "max_width": null,
            "min_height": null,
            "min_width": null,
            "object_fit": null,
            "object_position": null,
            "order": null,
            "overflow": null,
            "overflow_x": null,
            "overflow_y": null,
            "padding": null,
            "right": null,
            "top": null,
            "visibility": null,
            "width": null
          }
        },
        "7c8abcce393a4f34871a5c536a002770": {
          "model_module": "@jupyter-widgets/controls",
          "model_name": "DescriptionStyleModel",
          "model_module_version": "1.5.0",
          "state": {
            "_model_module": "@jupyter-widgets/controls",
            "_model_module_version": "1.5.0",
            "_model_name": "DescriptionStyleModel",
            "_view_count": null,
            "_view_module": "@jupyter-widgets/base",
            "_view_module_version": "1.2.0",
            "_view_name": "StyleView",
            "description_width": ""
          }
        },
        "e06dc8621c0b403ab429f684c441f31e": {
          "model_module": "@jupyter-widgets/base",
          "model_name": "LayoutModel",
          "model_module_version": "1.2.0",
          "state": {
            "_model_module": "@jupyter-widgets/base",
            "_model_module_version": "1.2.0",
            "_model_name": "LayoutModel",
            "_view_count": null,
            "_view_module": "@jupyter-widgets/base",
            "_view_module_version": "1.2.0",
            "_view_name": "LayoutView",
            "align_content": null,
            "align_items": null,
            "align_self": null,
            "border": null,
            "bottom": null,
            "display": null,
            "flex": null,
            "flex_flow": null,
            "grid_area": null,
            "grid_auto_columns": null,
            "grid_auto_flow": null,
            "grid_auto_rows": null,
            "grid_column": null,
            "grid_gap": null,
            "grid_row": null,
            "grid_template_areas": null,
            "grid_template_columns": null,
            "grid_template_rows": null,
            "height": null,
            "justify_content": null,
            "justify_items": null,
            "left": null,
            "margin": null,
            "max_height": null,
            "max_width": null,
            "min_height": null,
            "min_width": null,
            "object_fit": null,
            "object_position": null,
            "order": null,
            "overflow": null,
            "overflow_x": null,
            "overflow_y": null,
            "padding": null,
            "right": null,
            "top": null,
            "visibility": null,
            "width": null
          }
        },
        "c27d181889fd4828ab2a1610932e048e": {
          "model_module": "@jupyter-widgets/controls",
          "model_name": "ProgressStyleModel",
          "model_module_version": "1.5.0",
          "state": {
            "_model_module": "@jupyter-widgets/controls",
            "_model_module_version": "1.5.0",
            "_model_name": "ProgressStyleModel",
            "_view_count": null,
            "_view_module": "@jupyter-widgets/base",
            "_view_module_version": "1.2.0",
            "_view_name": "StyleView",
            "bar_color": null,
            "description_width": ""
          }
        },
        "12cdc80f65f7436599241fd3d22ec1db": {
          "model_module": "@jupyter-widgets/base",
          "model_name": "LayoutModel",
          "model_module_version": "1.2.0",
          "state": {
            "_model_module": "@jupyter-widgets/base",
            "_model_module_version": "1.2.0",
            "_model_name": "LayoutModel",
            "_view_count": null,
            "_view_module": "@jupyter-widgets/base",
            "_view_module_version": "1.2.0",
            "_view_name": "LayoutView",
            "align_content": null,
            "align_items": null,
            "align_self": null,
            "border": null,
            "bottom": null,
            "display": null,
            "flex": null,
            "flex_flow": null,
            "grid_area": null,
            "grid_auto_columns": null,
            "grid_auto_flow": null,
            "grid_auto_rows": null,
            "grid_column": null,
            "grid_gap": null,
            "grid_row": null,
            "grid_template_areas": null,
            "grid_template_columns": null,
            "grid_template_rows": null,
            "height": null,
            "justify_content": null,
            "justify_items": null,
            "left": null,
            "margin": null,
            "max_height": null,
            "max_width": null,
            "min_height": null,
            "min_width": null,
            "object_fit": null,
            "object_position": null,
            "order": null,
            "overflow": null,
            "overflow_x": null,
            "overflow_y": null,
            "padding": null,
            "right": null,
            "top": null,
            "visibility": null,
            "width": null
          }
        },
        "b28a1b61a94f444197408c32850c752d": {
          "model_module": "@jupyter-widgets/controls",
          "model_name": "DescriptionStyleModel",
          "model_module_version": "1.5.0",
          "state": {
            "_model_module": "@jupyter-widgets/controls",
            "_model_module_version": "1.5.0",
            "_model_name": "DescriptionStyleModel",
            "_view_count": null,
            "_view_module": "@jupyter-widgets/base",
            "_view_module_version": "1.2.0",
            "_view_name": "StyleView",
            "description_width": ""
          }
        },
        "f233230ea9f14c6ba4a72f06d367f6f1": {
          "model_module": "@jupyter-widgets/controls",
          "model_name": "HBoxModel",
          "model_module_version": "1.5.0",
          "state": {
            "_dom_classes": [],
            "_model_module": "@jupyter-widgets/controls",
            "_model_module_version": "1.5.0",
            "_model_name": "HBoxModel",
            "_view_count": null,
            "_view_module": "@jupyter-widgets/controls",
            "_view_module_version": "1.5.0",
            "_view_name": "HBoxView",
            "box_style": "",
            "children": [
              "IPY_MODEL_0437b2ced62149939fa81ae06136cab8",
              "IPY_MODEL_a97b8284abde402cb81f4208f9a4b82a",
              "IPY_MODEL_7ca12adb65834087abd0da1fb6dd7815"
            ],
            "layout": "IPY_MODEL_3dedefaf85df4b0d85e375b7ec9f3bfd"
          }
        },
        "0437b2ced62149939fa81ae06136cab8": {
          "model_module": "@jupyter-widgets/controls",
          "model_name": "HTMLModel",
          "model_module_version": "1.5.0",
          "state": {
            "_dom_classes": [],
            "_model_module": "@jupyter-widgets/controls",
            "_model_module_version": "1.5.0",
            "_model_name": "HTMLModel",
            "_view_count": null,
            "_view_module": "@jupyter-widgets/controls",
            "_view_module_version": "1.5.0",
            "_view_name": "HTMLView",
            "description": "",
            "description_tooltip": null,
            "layout": "IPY_MODEL_fb3520fa48204dd7ba8b242fbe6fd87e",
            "placeholder": "​",
            "style": "IPY_MODEL_5684dc32622749a4a7428d16333d997d",
            "value": "vocab.txt: 100%"
          }
        },
        "a97b8284abde402cb81f4208f9a4b82a": {
          "model_module": "@jupyter-widgets/controls",
          "model_name": "FloatProgressModel",
          "model_module_version": "1.5.0",
          "state": {
            "_dom_classes": [],
            "_model_module": "@jupyter-widgets/controls",
            "_model_module_version": "1.5.0",
            "_model_name": "FloatProgressModel",
            "_view_count": null,
            "_view_module": "@jupyter-widgets/controls",
            "_view_module_version": "1.5.0",
            "_view_name": "ProgressView",
            "bar_style": "success",
            "description": "",
            "description_tooltip": null,
            "layout": "IPY_MODEL_bcab85d7b1724fa48ba3e02479ef9cc3",
            "max": 213450,
            "min": 0,
            "orientation": "horizontal",
            "style": "IPY_MODEL_0fc9d7fcffc94e31837741aa01c77169",
            "value": 213450
          }
        },
        "7ca12adb65834087abd0da1fb6dd7815": {
          "model_module": "@jupyter-widgets/controls",
          "model_name": "HTMLModel",
          "model_module_version": "1.5.0",
          "state": {
            "_dom_classes": [],
            "_model_module": "@jupyter-widgets/controls",
            "_model_module_version": "1.5.0",
            "_model_name": "HTMLModel",
            "_view_count": null,
            "_view_module": "@jupyter-widgets/controls",
            "_view_module_version": "1.5.0",
            "_view_name": "HTMLView",
            "description": "",
            "description_tooltip": null,
            "layout": "IPY_MODEL_4fc1c1a1259c479faca028afb15998dd",
            "placeholder": "​",
            "style": "IPY_MODEL_7b0a0ad1ccb644ae9efad45fb9cc10e2",
            "value": " 213k/213k [00:00&lt;00:00, 10.3MB/s]"
          }
        },
        "3dedefaf85df4b0d85e375b7ec9f3bfd": {
          "model_module": "@jupyter-widgets/base",
          "model_name": "LayoutModel",
          "model_module_version": "1.2.0",
          "state": {
            "_model_module": "@jupyter-widgets/base",
            "_model_module_version": "1.2.0",
            "_model_name": "LayoutModel",
            "_view_count": null,
            "_view_module": "@jupyter-widgets/base",
            "_view_module_version": "1.2.0",
            "_view_name": "LayoutView",
            "align_content": null,
            "align_items": null,
            "align_self": null,
            "border": null,
            "bottom": null,
            "display": null,
            "flex": null,
            "flex_flow": null,
            "grid_area": null,
            "grid_auto_columns": null,
            "grid_auto_flow": null,
            "grid_auto_rows": null,
            "grid_column": null,
            "grid_gap": null,
            "grid_row": null,
            "grid_template_areas": null,
            "grid_template_columns": null,
            "grid_template_rows": null,
            "height": null,
            "justify_content": null,
            "justify_items": null,
            "left": null,
            "margin": null,
            "max_height": null,
            "max_width": null,
            "min_height": null,
            "min_width": null,
            "object_fit": null,
            "object_position": null,
            "order": null,
            "overflow": null,
            "overflow_x": null,
            "overflow_y": null,
            "padding": null,
            "right": null,
            "top": null,
            "visibility": null,
            "width": null
          }
        },
        "fb3520fa48204dd7ba8b242fbe6fd87e": {
          "model_module": "@jupyter-widgets/base",
          "model_name": "LayoutModel",
          "model_module_version": "1.2.0",
          "state": {
            "_model_module": "@jupyter-widgets/base",
            "_model_module_version": "1.2.0",
            "_model_name": "LayoutModel",
            "_view_count": null,
            "_view_module": "@jupyter-widgets/base",
            "_view_module_version": "1.2.0",
            "_view_name": "LayoutView",
            "align_content": null,
            "align_items": null,
            "align_self": null,
            "border": null,
            "bottom": null,
            "display": null,
            "flex": null,
            "flex_flow": null,
            "grid_area": null,
            "grid_auto_columns": null,
            "grid_auto_flow": null,
            "grid_auto_rows": null,
            "grid_column": null,
            "grid_gap": null,
            "grid_row": null,
            "grid_template_areas": null,
            "grid_template_columns": null,
            "grid_template_rows": null,
            "height": null,
            "justify_content": null,
            "justify_items": null,
            "left": null,
            "margin": null,
            "max_height": null,
            "max_width": null,
            "min_height": null,
            "min_width": null,
            "object_fit": null,
            "object_position": null,
            "order": null,
            "overflow": null,
            "overflow_x": null,
            "overflow_y": null,
            "padding": null,
            "right": null,
            "top": null,
            "visibility": null,
            "width": null
          }
        },
        "5684dc32622749a4a7428d16333d997d": {
          "model_module": "@jupyter-widgets/controls",
          "model_name": "DescriptionStyleModel",
          "model_module_version": "1.5.0",
          "state": {
            "_model_module": "@jupyter-widgets/controls",
            "_model_module_version": "1.5.0",
            "_model_name": "DescriptionStyleModel",
            "_view_count": null,
            "_view_module": "@jupyter-widgets/base",
            "_view_module_version": "1.2.0",
            "_view_name": "StyleView",
            "description_width": ""
          }
        },
        "bcab85d7b1724fa48ba3e02479ef9cc3": {
          "model_module": "@jupyter-widgets/base",
          "model_name": "LayoutModel",
          "model_module_version": "1.2.0",
          "state": {
            "_model_module": "@jupyter-widgets/base",
            "_model_module_version": "1.2.0",
            "_model_name": "LayoutModel",
            "_view_count": null,
            "_view_module": "@jupyter-widgets/base",
            "_view_module_version": "1.2.0",
            "_view_name": "LayoutView",
            "align_content": null,
            "align_items": null,
            "align_self": null,
            "border": null,
            "bottom": null,
            "display": null,
            "flex": null,
            "flex_flow": null,
            "grid_area": null,
            "grid_auto_columns": null,
            "grid_auto_flow": null,
            "grid_auto_rows": null,
            "grid_column": null,
            "grid_gap": null,
            "grid_row": null,
            "grid_template_areas": null,
            "grid_template_columns": null,
            "grid_template_rows": null,
            "height": null,
            "justify_content": null,
            "justify_items": null,
            "left": null,
            "margin": null,
            "max_height": null,
            "max_width": null,
            "min_height": null,
            "min_width": null,
            "object_fit": null,
            "object_position": null,
            "order": null,
            "overflow": null,
            "overflow_x": null,
            "overflow_y": null,
            "padding": null,
            "right": null,
            "top": null,
            "visibility": null,
            "width": null
          }
        },
        "0fc9d7fcffc94e31837741aa01c77169": {
          "model_module": "@jupyter-widgets/controls",
          "model_name": "ProgressStyleModel",
          "model_module_version": "1.5.0",
          "state": {
            "_model_module": "@jupyter-widgets/controls",
            "_model_module_version": "1.5.0",
            "_model_name": "ProgressStyleModel",
            "_view_count": null,
            "_view_module": "@jupyter-widgets/base",
            "_view_module_version": "1.2.0",
            "_view_name": "StyleView",
            "bar_color": null,
            "description_width": ""
          }
        },
        "4fc1c1a1259c479faca028afb15998dd": {
          "model_module": "@jupyter-widgets/base",
          "model_name": "LayoutModel",
          "model_module_version": "1.2.0",
          "state": {
            "_model_module": "@jupyter-widgets/base",
            "_model_module_version": "1.2.0",
            "_model_name": "LayoutModel",
            "_view_count": null,
            "_view_module": "@jupyter-widgets/base",
            "_view_module_version": "1.2.0",
            "_view_name": "LayoutView",
            "align_content": null,
            "align_items": null,
            "align_self": null,
            "border": null,
            "bottom": null,
            "display": null,
            "flex": null,
            "flex_flow": null,
            "grid_area": null,
            "grid_auto_columns": null,
            "grid_auto_flow": null,
            "grid_auto_rows": null,
            "grid_column": null,
            "grid_gap": null,
            "grid_row": null,
            "grid_template_areas": null,
            "grid_template_columns": null,
            "grid_template_rows": null,
            "height": null,
            "justify_content": null,
            "justify_items": null,
            "left": null,
            "margin": null,
            "max_height": null,
            "max_width": null,
            "min_height": null,
            "min_width": null,
            "object_fit": null,
            "object_position": null,
            "order": null,
            "overflow": null,
            "overflow_x": null,
            "overflow_y": null,
            "padding": null,
            "right": null,
            "top": null,
            "visibility": null,
            "width": null
          }
        },
        "7b0a0ad1ccb644ae9efad45fb9cc10e2": {
          "model_module": "@jupyter-widgets/controls",
          "model_name": "DescriptionStyleModel",
          "model_module_version": "1.5.0",
          "state": {
            "_model_module": "@jupyter-widgets/controls",
            "_model_module_version": "1.5.0",
            "_model_name": "DescriptionStyleModel",
            "_view_count": null,
            "_view_module": "@jupyter-widgets/base",
            "_view_module_version": "1.2.0",
            "_view_name": "StyleView",
            "description_width": ""
          }
        },
        "e3dfaadc8c624f248f9514a997905a60": {
          "model_module": "@jupyter-widgets/controls",
          "model_name": "HBoxModel",
          "model_module_version": "1.5.0",
          "state": {
            "_dom_classes": [],
            "_model_module": "@jupyter-widgets/controls",
            "_model_module_version": "1.5.0",
            "_model_name": "HBoxModel",
            "_view_count": null,
            "_view_module": "@jupyter-widgets/controls",
            "_view_module_version": "1.5.0",
            "_view_name": "HBoxView",
            "box_style": "",
            "children": [
              "IPY_MODEL_bdf3a247bac945598108bcbaf4d18ca2",
              "IPY_MODEL_d807032659024798b2ebd0e45917c081",
              "IPY_MODEL_af2fd770368b4faa8631eec53318eca1"
            ],
            "layout": "IPY_MODEL_7b9502b474c249bdaedcf44e07b0f3b1"
          }
        },
        "bdf3a247bac945598108bcbaf4d18ca2": {
          "model_module": "@jupyter-widgets/controls",
          "model_name": "HTMLModel",
          "model_module_version": "1.5.0",
          "state": {
            "_dom_classes": [],
            "_model_module": "@jupyter-widgets/controls",
            "_model_module_version": "1.5.0",
            "_model_name": "HTMLModel",
            "_view_count": null,
            "_view_module": "@jupyter-widgets/controls",
            "_view_module_version": "1.5.0",
            "_view_name": "HTMLView",
            "description": "",
            "description_tooltip": null,
            "layout": "IPY_MODEL_10787c6e797648e78566a0dce508976d",
            "placeholder": "​",
            "style": "IPY_MODEL_848b253b1f0c409fa51abf8295cd577b",
            "value": "tokenizer.json: 100%"
          }
        },
        "d807032659024798b2ebd0e45917c081": {
          "model_module": "@jupyter-widgets/controls",
          "model_name": "FloatProgressModel",
          "model_module_version": "1.5.0",
          "state": {
            "_dom_classes": [],
            "_model_module": "@jupyter-widgets/controls",
            "_model_module_version": "1.5.0",
            "_model_name": "FloatProgressModel",
            "_view_count": null,
            "_view_module": "@jupyter-widgets/controls",
            "_view_module_version": "1.5.0",
            "_view_name": "ProgressView",
            "bar_style": "success",
            "description": "",
            "description_tooltip": null,
            "layout": "IPY_MODEL_eb8a3254b9ca4fcbab48e74654849745",
            "max": 435797,
            "min": 0,
            "orientation": "horizontal",
            "style": "IPY_MODEL_f3763d370bf147318e8e0bf5b3b6835f",
            "value": 435797
          }
        },
        "af2fd770368b4faa8631eec53318eca1": {
          "model_module": "@jupyter-widgets/controls",
          "model_name": "HTMLModel",
          "model_module_version": "1.5.0",
          "state": {
            "_dom_classes": [],
            "_model_module": "@jupyter-widgets/controls",
            "_model_module_version": "1.5.0",
            "_model_name": "HTMLModel",
            "_view_count": null,
            "_view_module": "@jupyter-widgets/controls",
            "_view_module_version": "1.5.0",
            "_view_name": "HTMLView",
            "description": "",
            "description_tooltip": null,
            "layout": "IPY_MODEL_cd9db94c25154a7b8688633716aeaae5",
            "placeholder": "​",
            "style": "IPY_MODEL_72b9b4cf1db74927acaa7940078b9205",
            "value": " 436k/436k [00:00&lt;00:00, 1.87MB/s]"
          }
        },
        "7b9502b474c249bdaedcf44e07b0f3b1": {
          "model_module": "@jupyter-widgets/base",
          "model_name": "LayoutModel",
          "model_module_version": "1.2.0",
          "state": {
            "_model_module": "@jupyter-widgets/base",
            "_model_module_version": "1.2.0",
            "_model_name": "LayoutModel",
            "_view_count": null,
            "_view_module": "@jupyter-widgets/base",
            "_view_module_version": "1.2.0",
            "_view_name": "LayoutView",
            "align_content": null,
            "align_items": null,
            "align_self": null,
            "border": null,
            "bottom": null,
            "display": null,
            "flex": null,
            "flex_flow": null,
            "grid_area": null,
            "grid_auto_columns": null,
            "grid_auto_flow": null,
            "grid_auto_rows": null,
            "grid_column": null,
            "grid_gap": null,
            "grid_row": null,
            "grid_template_areas": null,
            "grid_template_columns": null,
            "grid_template_rows": null,
            "height": null,
            "justify_content": null,
            "justify_items": null,
            "left": null,
            "margin": null,
            "max_height": null,
            "max_width": null,
            "min_height": null,
            "min_width": null,
            "object_fit": null,
            "object_position": null,
            "order": null,
            "overflow": null,
            "overflow_x": null,
            "overflow_y": null,
            "padding": null,
            "right": null,
            "top": null,
            "visibility": null,
            "width": null
          }
        },
        "10787c6e797648e78566a0dce508976d": {
          "model_module": "@jupyter-widgets/base",
          "model_name": "LayoutModel",
          "model_module_version": "1.2.0",
          "state": {
            "_model_module": "@jupyter-widgets/base",
            "_model_module_version": "1.2.0",
            "_model_name": "LayoutModel",
            "_view_count": null,
            "_view_module": "@jupyter-widgets/base",
            "_view_module_version": "1.2.0",
            "_view_name": "LayoutView",
            "align_content": null,
            "align_items": null,
            "align_self": null,
            "border": null,
            "bottom": null,
            "display": null,
            "flex": null,
            "flex_flow": null,
            "grid_area": null,
            "grid_auto_columns": null,
            "grid_auto_flow": null,
            "grid_auto_rows": null,
            "grid_column": null,
            "grid_gap": null,
            "grid_row": null,
            "grid_template_areas": null,
            "grid_template_columns": null,
            "grid_template_rows": null,
            "height": null,
            "justify_content": null,
            "justify_items": null,
            "left": null,
            "margin": null,
            "max_height": null,
            "max_width": null,
            "min_height": null,
            "min_width": null,
            "object_fit": null,
            "object_position": null,
            "order": null,
            "overflow": null,
            "overflow_x": null,
            "overflow_y": null,
            "padding": null,
            "right": null,
            "top": null,
            "visibility": null,
            "width": null
          }
        },
        "848b253b1f0c409fa51abf8295cd577b": {
          "model_module": "@jupyter-widgets/controls",
          "model_name": "DescriptionStyleModel",
          "model_module_version": "1.5.0",
          "state": {
            "_model_module": "@jupyter-widgets/controls",
            "_model_module_version": "1.5.0",
            "_model_name": "DescriptionStyleModel",
            "_view_count": null,
            "_view_module": "@jupyter-widgets/base",
            "_view_module_version": "1.2.0",
            "_view_name": "StyleView",
            "description_width": ""
          }
        },
        "eb8a3254b9ca4fcbab48e74654849745": {
          "model_module": "@jupyter-widgets/base",
          "model_name": "LayoutModel",
          "model_module_version": "1.2.0",
          "state": {
            "_model_module": "@jupyter-widgets/base",
            "_model_module_version": "1.2.0",
            "_model_name": "LayoutModel",
            "_view_count": null,
            "_view_module": "@jupyter-widgets/base",
            "_view_module_version": "1.2.0",
            "_view_name": "LayoutView",
            "align_content": null,
            "align_items": null,
            "align_self": null,
            "border": null,
            "bottom": null,
            "display": null,
            "flex": null,
            "flex_flow": null,
            "grid_area": null,
            "grid_auto_columns": null,
            "grid_auto_flow": null,
            "grid_auto_rows": null,
            "grid_column": null,
            "grid_gap": null,
            "grid_row": null,
            "grid_template_areas": null,
            "grid_template_columns": null,
            "grid_template_rows": null,
            "height": null,
            "justify_content": null,
            "justify_items": null,
            "left": null,
            "margin": null,
            "max_height": null,
            "max_width": null,
            "min_height": null,
            "min_width": null,
            "object_fit": null,
            "object_position": null,
            "order": null,
            "overflow": null,
            "overflow_x": null,
            "overflow_y": null,
            "padding": null,
            "right": null,
            "top": null,
            "visibility": null,
            "width": null
          }
        },
        "f3763d370bf147318e8e0bf5b3b6835f": {
          "model_module": "@jupyter-widgets/controls",
          "model_name": "ProgressStyleModel",
          "model_module_version": "1.5.0",
          "state": {
            "_model_module": "@jupyter-widgets/controls",
            "_model_module_version": "1.5.0",
            "_model_name": "ProgressStyleModel",
            "_view_count": null,
            "_view_module": "@jupyter-widgets/base",
            "_view_module_version": "1.2.0",
            "_view_name": "StyleView",
            "bar_color": null,
            "description_width": ""
          }
        },
        "cd9db94c25154a7b8688633716aeaae5": {
          "model_module": "@jupyter-widgets/base",
          "model_name": "LayoutModel",
          "model_module_version": "1.2.0",
          "state": {
            "_model_module": "@jupyter-widgets/base",
            "_model_module_version": "1.2.0",
            "_model_name": "LayoutModel",
            "_view_count": null,
            "_view_module": "@jupyter-widgets/base",
            "_view_module_version": "1.2.0",
            "_view_name": "LayoutView",
            "align_content": null,
            "align_items": null,
            "align_self": null,
            "border": null,
            "bottom": null,
            "display": null,
            "flex": null,
            "flex_flow": null,
            "grid_area": null,
            "grid_auto_columns": null,
            "grid_auto_flow": null,
            "grid_auto_rows": null,
            "grid_column": null,
            "grid_gap": null,
            "grid_row": null,
            "grid_template_areas": null,
            "grid_template_columns": null,
            "grid_template_rows": null,
            "height": null,
            "justify_content": null,
            "justify_items": null,
            "left": null,
            "margin": null,
            "max_height": null,
            "max_width": null,
            "min_height": null,
            "min_width": null,
            "object_fit": null,
            "object_position": null,
            "order": null,
            "overflow": null,
            "overflow_x": null,
            "overflow_y": null,
            "padding": null,
            "right": null,
            "top": null,
            "visibility": null,
            "width": null
          }
        },
        "72b9b4cf1db74927acaa7940078b9205": {
          "model_module": "@jupyter-widgets/controls",
          "model_name": "DescriptionStyleModel",
          "model_module_version": "1.5.0",
          "state": {
            "_model_module": "@jupyter-widgets/controls",
            "_model_module_version": "1.5.0",
            "_model_name": "DescriptionStyleModel",
            "_view_count": null,
            "_view_module": "@jupyter-widgets/base",
            "_view_module_version": "1.2.0",
            "_view_name": "StyleView",
            "description_width": ""
          }
        },
        "f44b8149ec8e42ee9cf84b7637dabf2a": {
          "model_module": "@jupyter-widgets/controls",
          "model_name": "HBoxModel",
          "model_module_version": "1.5.0",
          "state": {
            "_dom_classes": [],
            "_model_module": "@jupyter-widgets/controls",
            "_model_module_version": "1.5.0",
            "_model_name": "HBoxModel",
            "_view_count": null,
            "_view_module": "@jupyter-widgets/controls",
            "_view_module_version": "1.5.0",
            "_view_name": "HBoxView",
            "box_style": "",
            "children": [
              "IPY_MODEL_ce383e0898414e0b9e1ee8ae9a4a4dda",
              "IPY_MODEL_1d99f7b7c3a84b6c9758759afc9e2764",
              "IPY_MODEL_5a4485da864c41cebbf00a47f10135f7"
            ],
            "layout": "IPY_MODEL_5bda537a7f8f48959b989ea0d26373b5"
          }
        },
        "ce383e0898414e0b9e1ee8ae9a4a4dda": {
          "model_module": "@jupyter-widgets/controls",
          "model_name": "HTMLModel",
          "model_module_version": "1.5.0",
          "state": {
            "_dom_classes": [],
            "_model_module": "@jupyter-widgets/controls",
            "_model_module_version": "1.5.0",
            "_model_name": "HTMLModel",
            "_view_count": null,
            "_view_module": "@jupyter-widgets/controls",
            "_view_module_version": "1.5.0",
            "_view_name": "HTMLView",
            "description": "",
            "description_tooltip": null,
            "layout": "IPY_MODEL_83a4894fe28342f3a7f6cfe929fc4df1",
            "placeholder": "​",
            "style": "IPY_MODEL_126f8f1ff9b64ae497abc4385e7e5804",
            "value": "config.json: 100%"
          }
        },
        "1d99f7b7c3a84b6c9758759afc9e2764": {
          "model_module": "@jupyter-widgets/controls",
          "model_name": "FloatProgressModel",
          "model_module_version": "1.5.0",
          "state": {
            "_dom_classes": [],
            "_model_module": "@jupyter-widgets/controls",
            "_model_module_version": "1.5.0",
            "_model_name": "FloatProgressModel",
            "_view_count": null,
            "_view_module": "@jupyter-widgets/controls",
            "_view_module_version": "1.5.0",
            "_view_name": "ProgressView",
            "bar_style": "success",
            "description": "",
            "description_tooltip": null,
            "layout": "IPY_MODEL_ab453ba1c2874a709e7a442e7a8432e5",
            "max": 465,
            "min": 0,
            "orientation": "horizontal",
            "style": "IPY_MODEL_e882ca0ada9c4d5ea296abf4fb747bc7",
            "value": 465
          }
        },
        "5a4485da864c41cebbf00a47f10135f7": {
          "model_module": "@jupyter-widgets/controls",
          "model_name": "HTMLModel",
          "model_module_version": "1.5.0",
          "state": {
            "_dom_classes": [],
            "_model_module": "@jupyter-widgets/controls",
            "_model_module_version": "1.5.0",
            "_model_name": "HTMLModel",
            "_view_count": null,
            "_view_module": "@jupyter-widgets/controls",
            "_view_module_version": "1.5.0",
            "_view_name": "HTMLView",
            "description": "",
            "description_tooltip": null,
            "layout": "IPY_MODEL_ca99fc917d4c41cd968f7733814f802e",
            "placeholder": "​",
            "style": "IPY_MODEL_b7c4db3a15cc440f9eef400e6dda320e",
            "value": " 465/465 [00:00&lt;00:00, 35.9kB/s]"
          }
        },
        "5bda537a7f8f48959b989ea0d26373b5": {
          "model_module": "@jupyter-widgets/base",
          "model_name": "LayoutModel",
          "model_module_version": "1.2.0",
          "state": {
            "_model_module": "@jupyter-widgets/base",
            "_model_module_version": "1.2.0",
            "_model_name": "LayoutModel",
            "_view_count": null,
            "_view_module": "@jupyter-widgets/base",
            "_view_module_version": "1.2.0",
            "_view_name": "LayoutView",
            "align_content": null,
            "align_items": null,
            "align_self": null,
            "border": null,
            "bottom": null,
            "display": null,
            "flex": null,
            "flex_flow": null,
            "grid_area": null,
            "grid_auto_columns": null,
            "grid_auto_flow": null,
            "grid_auto_rows": null,
            "grid_column": null,
            "grid_gap": null,
            "grid_row": null,
            "grid_template_areas": null,
            "grid_template_columns": null,
            "grid_template_rows": null,
            "height": null,
            "justify_content": null,
            "justify_items": null,
            "left": null,
            "margin": null,
            "max_height": null,
            "max_width": null,
            "min_height": null,
            "min_width": null,
            "object_fit": null,
            "object_position": null,
            "order": null,
            "overflow": null,
            "overflow_x": null,
            "overflow_y": null,
            "padding": null,
            "right": null,
            "top": null,
            "visibility": null,
            "width": null
          }
        },
        "83a4894fe28342f3a7f6cfe929fc4df1": {
          "model_module": "@jupyter-widgets/base",
          "model_name": "LayoutModel",
          "model_module_version": "1.2.0",
          "state": {
            "_model_module": "@jupyter-widgets/base",
            "_model_module_version": "1.2.0",
            "_model_name": "LayoutModel",
            "_view_count": null,
            "_view_module": "@jupyter-widgets/base",
            "_view_module_version": "1.2.0",
            "_view_name": "LayoutView",
            "align_content": null,
            "align_items": null,
            "align_self": null,
            "border": null,
            "bottom": null,
            "display": null,
            "flex": null,
            "flex_flow": null,
            "grid_area": null,
            "grid_auto_columns": null,
            "grid_auto_flow": null,
            "grid_auto_rows": null,
            "grid_column": null,
            "grid_gap": null,
            "grid_row": null,
            "grid_template_areas": null,
            "grid_template_columns": null,
            "grid_template_rows": null,
            "height": null,
            "justify_content": null,
            "justify_items": null,
            "left": null,
            "margin": null,
            "max_height": null,
            "max_width": null,
            "min_height": null,
            "min_width": null,
            "object_fit": null,
            "object_position": null,
            "order": null,
            "overflow": null,
            "overflow_x": null,
            "overflow_y": null,
            "padding": null,
            "right": null,
            "top": null,
            "visibility": null,
            "width": null
          }
        },
        "126f8f1ff9b64ae497abc4385e7e5804": {
          "model_module": "@jupyter-widgets/controls",
          "model_name": "DescriptionStyleModel",
          "model_module_version": "1.5.0",
          "state": {
            "_model_module": "@jupyter-widgets/controls",
            "_model_module_version": "1.5.0",
            "_model_name": "DescriptionStyleModel",
            "_view_count": null,
            "_view_module": "@jupyter-widgets/base",
            "_view_module_version": "1.2.0",
            "_view_name": "StyleView",
            "description_width": ""
          }
        },
        "ab453ba1c2874a709e7a442e7a8432e5": {
          "model_module": "@jupyter-widgets/base",
          "model_name": "LayoutModel",
          "model_module_version": "1.2.0",
          "state": {
            "_model_module": "@jupyter-widgets/base",
            "_model_module_version": "1.2.0",
            "_model_name": "LayoutModel",
            "_view_count": null,
            "_view_module": "@jupyter-widgets/base",
            "_view_module_version": "1.2.0",
            "_view_name": "LayoutView",
            "align_content": null,
            "align_items": null,
            "align_self": null,
            "border": null,
            "bottom": null,
            "display": null,
            "flex": null,
            "flex_flow": null,
            "grid_area": null,
            "grid_auto_columns": null,
            "grid_auto_flow": null,
            "grid_auto_rows": null,
            "grid_column": null,
            "grid_gap": null,
            "grid_row": null,
            "grid_template_areas": null,
            "grid_template_columns": null,
            "grid_template_rows": null,
            "height": null,
            "justify_content": null,
            "justify_items": null,
            "left": null,
            "margin": null,
            "max_height": null,
            "max_width": null,
            "min_height": null,
            "min_width": null,
            "object_fit": null,
            "object_position": null,
            "order": null,
            "overflow": null,
            "overflow_x": null,
            "overflow_y": null,
            "padding": null,
            "right": null,
            "top": null,
            "visibility": null,
            "width": null
          }
        },
        "e882ca0ada9c4d5ea296abf4fb747bc7": {
          "model_module": "@jupyter-widgets/controls",
          "model_name": "ProgressStyleModel",
          "model_module_version": "1.5.0",
          "state": {
            "_model_module": "@jupyter-widgets/controls",
            "_model_module_version": "1.5.0",
            "_model_name": "ProgressStyleModel",
            "_view_count": null,
            "_view_module": "@jupyter-widgets/base",
            "_view_module_version": "1.2.0",
            "_view_name": "StyleView",
            "bar_color": null,
            "description_width": ""
          }
        },
        "ca99fc917d4c41cd968f7733814f802e": {
          "model_module": "@jupyter-widgets/base",
          "model_name": "LayoutModel",
          "model_module_version": "1.2.0",
          "state": {
            "_model_module": "@jupyter-widgets/base",
            "_model_module_version": "1.2.0",
            "_model_name": "LayoutModel",
            "_view_count": null,
            "_view_module": "@jupyter-widgets/base",
            "_view_module_version": "1.2.0",
            "_view_name": "LayoutView",
            "align_content": null,
            "align_items": null,
            "align_self": null,
            "border": null,
            "bottom": null,
            "display": null,
            "flex": null,
            "flex_flow": null,
            "grid_area": null,
            "grid_auto_columns": null,
            "grid_auto_flow": null,
            "grid_auto_rows": null,
            "grid_column": null,
            "grid_gap": null,
            "grid_row": null,
            "grid_template_areas": null,
            "grid_template_columns": null,
            "grid_template_rows": null,
            "height": null,
            "justify_content": null,
            "justify_items": null,
            "left": null,
            "margin": null,
            "max_height": null,
            "max_width": null,
            "min_height": null,
            "min_width": null,
            "object_fit": null,
            "object_position": null,
            "order": null,
            "overflow": null,
            "overflow_x": null,
            "overflow_y": null,
            "padding": null,
            "right": null,
            "top": null,
            "visibility": null,
            "width": null
          }
        },
        "b7c4db3a15cc440f9eef400e6dda320e": {
          "model_module": "@jupyter-widgets/controls",
          "model_name": "DescriptionStyleModel",
          "model_module_version": "1.5.0",
          "state": {
            "_model_module": "@jupyter-widgets/controls",
            "_model_module_version": "1.5.0",
            "_model_name": "DescriptionStyleModel",
            "_view_count": null,
            "_view_module": "@jupyter-widgets/base",
            "_view_module_version": "1.2.0",
            "_view_name": "StyleView",
            "description_width": ""
          }
        },
        "274f4211357d49eb9a848f7622cea514": {
          "model_module": "@jupyter-widgets/controls",
          "model_name": "HBoxModel",
          "model_module_version": "1.5.0",
          "state": {
            "_dom_classes": [],
            "_model_module": "@jupyter-widgets/controls",
            "_model_module_version": "1.5.0",
            "_model_name": "HBoxModel",
            "_view_count": null,
            "_view_module": "@jupyter-widgets/controls",
            "_view_module_version": "1.5.0",
            "_view_name": "HBoxView",
            "box_style": "",
            "children": [
              "IPY_MODEL_f0869287ba5f4ec88c2c20eb3eb083b7",
              "IPY_MODEL_e7cc6c25c82a4bbabcc0bb6f017e7a16",
              "IPY_MODEL_52c5569945764b05bc05bca57ae3d2ce"
            ],
            "layout": "IPY_MODEL_4f82451ab3714b31825e9d34826dcec1"
          }
        },
        "f0869287ba5f4ec88c2c20eb3eb083b7": {
          "model_module": "@jupyter-widgets/controls",
          "model_name": "HTMLModel",
          "model_module_version": "1.5.0",
          "state": {
            "_dom_classes": [],
            "_model_module": "@jupyter-widgets/controls",
            "_model_module_version": "1.5.0",
            "_model_name": "HTMLModel",
            "_view_count": null,
            "_view_module": "@jupyter-widgets/controls",
            "_view_module_version": "1.5.0",
            "_view_name": "HTMLView",
            "description": "",
            "description_tooltip": null,
            "layout": "IPY_MODEL_9dcd1607fe8c4a079c3df62ecbf7552a",
            "placeholder": "​",
            "style": "IPY_MODEL_a7167c8782324486a900bbc21f01f0f9",
            "value": "model.safetensors: 100%"
          }
        },
        "e7cc6c25c82a4bbabcc0bb6f017e7a16": {
          "model_module": "@jupyter-widgets/controls",
          "model_name": "FloatProgressModel",
          "model_module_version": "1.5.0",
          "state": {
            "_dom_classes": [],
            "_model_module": "@jupyter-widgets/controls",
            "_model_module_version": "1.5.0",
            "_model_name": "FloatProgressModel",
            "_view_count": null,
            "_view_module": "@jupyter-widgets/controls",
            "_view_module_version": "1.5.0",
            "_view_name": "ProgressView",
            "bar_style": "success",
            "description": "",
            "description_tooltip": null,
            "layout": "IPY_MODEL_c720ed2b6c47410e9accae4b0b26ed02",
            "max": 263260784,
            "min": 0,
            "orientation": "horizontal",
            "style": "IPY_MODEL_564aeaf75556476e9106fdbb5ce2f557",
            "value": 263260784
          }
        },
        "52c5569945764b05bc05bca57ae3d2ce": {
          "model_module": "@jupyter-widgets/controls",
          "model_name": "HTMLModel",
          "model_module_version": "1.5.0",
          "state": {
            "_dom_classes": [],
            "_model_module": "@jupyter-widgets/controls",
            "_model_module_version": "1.5.0",
            "_model_name": "HTMLModel",
            "_view_count": null,
            "_view_module": "@jupyter-widgets/controls",
            "_view_module_version": "1.5.0",
            "_view_name": "HTMLView",
            "description": "",
            "description_tooltip": null,
            "layout": "IPY_MODEL_f0d7f815321a4882b33120d31241b8f9",
            "placeholder": "​",
            "style": "IPY_MODEL_84fe534459ad44749c4cb384070aa7c3",
            "value": " 263M/263M [00:01&lt;00:00, 250MB/s]"
          }
        },
        "4f82451ab3714b31825e9d34826dcec1": {
          "model_module": "@jupyter-widgets/base",
          "model_name": "LayoutModel",
          "model_module_version": "1.2.0",
          "state": {
            "_model_module": "@jupyter-widgets/base",
            "_model_module_version": "1.2.0",
            "_model_name": "LayoutModel",
            "_view_count": null,
            "_view_module": "@jupyter-widgets/base",
            "_view_module_version": "1.2.0",
            "_view_name": "LayoutView",
            "align_content": null,
            "align_items": null,
            "align_self": null,
            "border": null,
            "bottom": null,
            "display": null,
            "flex": null,
            "flex_flow": null,
            "grid_area": null,
            "grid_auto_columns": null,
            "grid_auto_flow": null,
            "grid_auto_rows": null,
            "grid_column": null,
            "grid_gap": null,
            "grid_row": null,
            "grid_template_areas": null,
            "grid_template_columns": null,
            "grid_template_rows": null,
            "height": null,
            "justify_content": null,
            "justify_items": null,
            "left": null,
            "margin": null,
            "max_height": null,
            "max_width": null,
            "min_height": null,
            "min_width": null,
            "object_fit": null,
            "object_position": null,
            "order": null,
            "overflow": null,
            "overflow_x": null,
            "overflow_y": null,
            "padding": null,
            "right": null,
            "top": null,
            "visibility": null,
            "width": null
          }
        },
        "9dcd1607fe8c4a079c3df62ecbf7552a": {
          "model_module": "@jupyter-widgets/base",
          "model_name": "LayoutModel",
          "model_module_version": "1.2.0",
          "state": {
            "_model_module": "@jupyter-widgets/base",
            "_model_module_version": "1.2.0",
            "_model_name": "LayoutModel",
            "_view_count": null,
            "_view_module": "@jupyter-widgets/base",
            "_view_module_version": "1.2.0",
            "_view_name": "LayoutView",
            "align_content": null,
            "align_items": null,
            "align_self": null,
            "border": null,
            "bottom": null,
            "display": null,
            "flex": null,
            "flex_flow": null,
            "grid_area": null,
            "grid_auto_columns": null,
            "grid_auto_flow": null,
            "grid_auto_rows": null,
            "grid_column": null,
            "grid_gap": null,
            "grid_row": null,
            "grid_template_areas": null,
            "grid_template_columns": null,
            "grid_template_rows": null,
            "height": null,
            "justify_content": null,
            "justify_items": null,
            "left": null,
            "margin": null,
            "max_height": null,
            "max_width": null,
            "min_height": null,
            "min_width": null,
            "object_fit": null,
            "object_position": null,
            "order": null,
            "overflow": null,
            "overflow_x": null,
            "overflow_y": null,
            "padding": null,
            "right": null,
            "top": null,
            "visibility": null,
            "width": null
          }
        },
        "a7167c8782324486a900bbc21f01f0f9": {
          "model_module": "@jupyter-widgets/controls",
          "model_name": "DescriptionStyleModel",
          "model_module_version": "1.5.0",
          "state": {
            "_model_module": "@jupyter-widgets/controls",
            "_model_module_version": "1.5.0",
            "_model_name": "DescriptionStyleModel",
            "_view_count": null,
            "_view_module": "@jupyter-widgets/base",
            "_view_module_version": "1.2.0",
            "_view_name": "StyleView",
            "description_width": ""
          }
        },
        "c720ed2b6c47410e9accae4b0b26ed02": {
          "model_module": "@jupyter-widgets/base",
          "model_name": "LayoutModel",
          "model_module_version": "1.2.0",
          "state": {
            "_model_module": "@jupyter-widgets/base",
            "_model_module_version": "1.2.0",
            "_model_name": "LayoutModel",
            "_view_count": null,
            "_view_module": "@jupyter-widgets/base",
            "_view_module_version": "1.2.0",
            "_view_name": "LayoutView",
            "align_content": null,
            "align_items": null,
            "align_self": null,
            "border": null,
            "bottom": null,
            "display": null,
            "flex": null,
            "flex_flow": null,
            "grid_area": null,
            "grid_auto_columns": null,
            "grid_auto_flow": null,
            "grid_auto_rows": null,
            "grid_column": null,
            "grid_gap": null,
            "grid_row": null,
            "grid_template_areas": null,
            "grid_template_columns": null,
            "grid_template_rows": null,
            "height": null,
            "justify_content": null,
            "justify_items": null,
            "left": null,
            "margin": null,
            "max_height": null,
            "max_width": null,
            "min_height": null,
            "min_width": null,
            "object_fit": null,
            "object_position": null,
            "order": null,
            "overflow": null,
            "overflow_x": null,
            "overflow_y": null,
            "padding": null,
            "right": null,
            "top": null,
            "visibility": null,
            "width": null
          }
        },
        "564aeaf75556476e9106fdbb5ce2f557": {
          "model_module": "@jupyter-widgets/controls",
          "model_name": "ProgressStyleModel",
          "model_module_version": "1.5.0",
          "state": {
            "_model_module": "@jupyter-widgets/controls",
            "_model_module_version": "1.5.0",
            "_model_name": "ProgressStyleModel",
            "_view_count": null,
            "_view_module": "@jupyter-widgets/base",
            "_view_module_version": "1.2.0",
            "_view_name": "StyleView",
            "bar_color": null,
            "description_width": ""
          }
        },
        "f0d7f815321a4882b33120d31241b8f9": {
          "model_module": "@jupyter-widgets/base",
          "model_name": "LayoutModel",
          "model_module_version": "1.2.0",
          "state": {
            "_model_module": "@jupyter-widgets/base",
            "_model_module_version": "1.2.0",
            "_model_name": "LayoutModel",
            "_view_count": null,
            "_view_module": "@jupyter-widgets/base",
            "_view_module_version": "1.2.0",
            "_view_name": "LayoutView",
            "align_content": null,
            "align_items": null,
            "align_self": null,
            "border": null,
            "bottom": null,
            "display": null,
            "flex": null,
            "flex_flow": null,
            "grid_area": null,
            "grid_auto_columns": null,
            "grid_auto_flow": null,
            "grid_auto_rows": null,
            "grid_column": null,
            "grid_gap": null,
            "grid_row": null,
            "grid_template_areas": null,
            "grid_template_columns": null,
            "grid_template_rows": null,
            "height": null,
            "justify_content": null,
            "justify_items": null,
            "left": null,
            "margin": null,
            "max_height": null,
            "max_width": null,
            "min_height": null,
            "min_width": null,
            "object_fit": null,
            "object_position": null,
            "order": null,
            "overflow": null,
            "overflow_x": null,
            "overflow_y": null,
            "padding": null,
            "right": null,
            "top": null,
            "visibility": null,
            "width": null
          }
        },
        "84fe534459ad44749c4cb384070aa7c3": {
          "model_module": "@jupyter-widgets/controls",
          "model_name": "DescriptionStyleModel",
          "model_module_version": "1.5.0",
          "state": {
            "_model_module": "@jupyter-widgets/controls",
            "_model_module_version": "1.5.0",
            "_model_name": "DescriptionStyleModel",
            "_view_count": null,
            "_view_module": "@jupyter-widgets/base",
            "_view_module_version": "1.2.0",
            "_view_name": "StyleView",
            "description_width": ""
          }
        }
      }
    }
  },
  "nbformat": 4,
  "nbformat_minor": 0
}